{
 "cells": [
  {
   "cell_type": "markdown",
   "metadata": {},
   "source": [
    "# Examples - timeit class\n"
   ]
  },
  {
   "cell_type": "markdown",
   "metadata": {},
   "source": [
    "### Example: Reverse string"
   ]
  },
  {
   "cell_type": "code",
   "execution_count": 2,
   "metadata": {
    "collapsed": false
   },
   "outputs": [
    {
     "data": {
      "text/plain": [
       "0.11329043956490409"
      ]
     },
     "execution_count": 2,
     "metadata": {},
     "output_type": "execute_result"
    }
   ],
   "source": [
    "import timeit\n",
    "timeit.timeit(\"x = 1; y=1; z = x+y\")"
   ]
  },
  {
   "cell_type": "code",
   "execution_count": 3,
   "metadata": {
    "collapsed": false
   },
   "outputs": [
    {
     "data": {
      "text/plain": [
       "[1.8839317139217195, 1.9606391545451718, 1.9125888076964035]"
      ]
     },
     "execution_count": 3,
     "metadata": {},
     "output_type": "execute_result"
    }
   ],
   "source": [
    "import timeit\n",
    "timeit.repeat(\"''.join(reversed('foo'))\") #,repeat=10)\n",
    "#help(timeit.repeat)"
   ]
  },
  {
   "cell_type": "code",
   "execution_count": 4,
   "metadata": {
    "collapsed": false
   },
   "outputs": [
    {
     "name": "stdout",
     "output_type": "stream",
     "text": [
      "1.8008543671383848\n",
      "0.43782445573545914\n",
      "0.3757128457422141\n",
      "0.8496762017825503\n"
     ]
    }
   ],
   "source": [
    "import timeit\n",
    "print(min(timeit.repeat(\"''.join(reversed('foo'))\")))\n",
    "print(min(timeit.repeat(\"'foo'[::-1]\")))\n",
    "print(min(timeit.repeat(\"start=stop=None; step=-1; 'foo'[start:stop:step]\")))\n",
    "print(min(timeit.repeat(\"start=stop=None; step=-1; reverse_slice = slice(start, stop, step); 'foo'[reverse_slice]\")))"
   ]
  },
  {
   "cell_type": "code",
   "execution_count": 3,
   "metadata": {
    "collapsed": false,
    "scrolled": true
   },
   "outputs": [
    {
     "data": {
      "text/plain": [
       "0.02597446473666043"
      ]
     },
     "execution_count": 3,
     "metadata": {},
     "output_type": "execute_result"
    }
   ],
   "source": [
    "def reverse(text):\n",
    "    r_text = ''\n",
    "    index = len(text) - 1\n",
    "\n",
    "    while index >= 0:\n",
    "        r_text += text[index] #string canbe concatenated\n",
    "        index -= 1\n",
    "\n",
    "    return r_text\n",
    "\n",
    "#print(reverse(\"hello, world!\"))\n",
    "\n",
    "timeit.timeit(reverse('1234567999999999999999999'))"
   ]
  },
  {
   "cell_type": "code",
   "execution_count": 6,
   "metadata": {
    "collapsed": false
   },
   "outputs": [
    {
     "name": "stdout",
     "output_type": "stream",
     "text": [
      "87654321\n"
     ]
    },
    {
     "data": {
      "text/plain": [
       "0.021728243851725892"
      ]
     },
     "execution_count": 6,
     "metadata": {},
     "output_type": "execute_result"
    }
   ],
   "source": [
    "import timeit\n",
    "def reverse1(test):\n",
    "    n = len(test)\n",
    "    x=\"\"\n",
    "    for i in range(n-1,-1,-1):\n",
    "        x += test[i]\n",
    "    return x\n",
    "\n",
    "print(reverse1(\"12345678\"))\n",
    "timeit.timeit(reverse1('12345678'))"
   ]
  },
  {
   "cell_type": "code",
   "execution_count": 7,
   "metadata": {
    "collapsed": false
   },
   "outputs": [
    {
     "name": "stdout",
     "output_type": "stream",
     "text": [
      "dcba\n"
     ]
    }
   ],
   "source": [
    "def reverse(text):\n",
    "    new_string = []\n",
    "    n = len(text)\n",
    "    while (n > 0):\n",
    "        new_string.append(text[n-1])\n",
    "        n -= 1\n",
    "    return ''.join(new_string)\n",
    "print(reverse(\"abcd\"))"
   ]
  },
  {
   "cell_type": "code",
   "execution_count": 8,
   "metadata": {
    "collapsed": false
   },
   "outputs": [
    {
     "data": {
      "text/plain": [
       "1.5040308526693522"
      ]
     },
     "execution_count": 8,
     "metadata": {},
     "output_type": "execute_result"
    }
   ],
   "source": [
    "max([3,5,1,20,678,9,0])\n",
    "timeit.timeit(\"max([3,5,1,20,678,9,0])\")\n",
    "#timeit.timeit(mymax([3,5,1,20,678,9,0]))"
   ]
  },
  {
   "cell_type": "code",
   "execution_count": 9,
   "metadata": {
    "collapsed": false
   },
   "outputs": [
    {
     "data": {
      "text/plain": [
       "0.1601632611866819"
      ]
     },
     "execution_count": 9,
     "metadata": {},
     "output_type": "execute_result"
    }
   ],
   "source": [
    "import timeit\n",
    "def mymax(L):\n",
    "    \"\"\" input: a NONEMPTY list, L\n",
    "        output: L's maximum element\n",
    "    \"\"\"\n",
    "    if len(L) == 1:\n",
    "        return L[0]\n",
    "    else:\n",
    "        if L[0] < L[1]:\n",
    "            return mymax( L[1:] )\n",
    "        else:\n",
    "            return mymax( L[0:1] + L[2:] )\n",
    "        \n",
    "\n",
    "\n",
    "##timeit.timeit(mymax([3,5,1,20,678,9,0]))\n",
    "timeit.timeit(\"lambda: mymax([3,5,1,20,678,9,0])\")"
   ]
  },
  {
   "cell_type": "code",
   "execution_count": 10,
   "metadata": {
    "collapsed": false
   },
   "outputs": [
    {
     "data": {
      "text/plain": [
       "8"
      ]
     },
     "execution_count": 10,
     "metadata": {},
     "output_type": "execute_result"
    }
   ],
   "source": [
    "def power(b,p):\n",
    "    \"\"\" inputs: base b and power p (an int)\n",
    "        implements: b**p = b*b**(p-1)\n",
    "    \"\"\"\n",
    "    if p == 0:\n",
    "        return 1 \n",
    "    if p > 0:\n",
    "        return b*power(b,p-1)\n",
    "    else:  \n",
    "        # p < 0\n",
    "        return 1/power(b,-1*p)\n",
    "power(2,3)"
   ]
  },
  {
   "cell_type": "code",
   "execution_count": 12,
   "metadata": {
    "collapsed": false
   },
   "outputs": [
    {
     "name": "stdout",
     "output_type": "stream",
     "text": [
      "[3.4954350074989122, 3.569029554739501]\n"
     ]
    }
   ],
   "source": [
    "def f(x):\n",
    "    return x * x \n",
    "\n",
    "import timeit\n",
    "print(timeit.repeat(\"for x in range(5): lambda: f(x)\",repeat=2,number=1000000))\n"
   ]
  },
  {
   "cell_type": "code",
   "execution_count": null,
   "metadata": {
    "collapsed": true
   },
   "outputs": [],
   "source": []
  }
 ],
 "metadata": {
  "kernelspec": {
   "display_name": "Python 3",
   "language": "python",
   "name": "python3"
  },
  "language_info": {
   "codemirror_mode": {
    "name": "ipython",
    "version": 3
   },
   "file_extension": ".py",
   "mimetype": "text/x-python",
   "name": "python",
   "nbconvert_exporter": "python",
   "pygments_lexer": "ipython3",
   "version": "3.5.1"
  }
 },
 "nbformat": 4,
 "nbformat_minor": 0
}
