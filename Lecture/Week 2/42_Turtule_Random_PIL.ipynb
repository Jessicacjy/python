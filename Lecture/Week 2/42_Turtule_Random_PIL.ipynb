{
 "cells": [
  {
   "cell_type": "markdown",
   "metadata": {},
   "source": [
    "### Core Modules\n",
    "\n",
    "    * numpy\n",
    "    * matplotlib\n",
    "    * timeit\n",
    "    * random\n",
    "    * turtle - Pen Drawing\n",
    "    * PIL - Python Image Library"
   ]
  },
  {
   "cell_type": "markdown",
   "metadata": {},
   "source": [
    " ### random — Generate pseudo-random number"
   ]
  },
  {
   "cell_type": "code",
   "execution_count": null,
   "metadata": {
    "collapsed": false
   },
   "outputs": [],
   "source": [
    "import random\n",
    "\n",
    "print(random.random())                   # Random float x, 0.0 <= x < 1.0\n",
    "\n",
    "print(random.uniform(1, 10))                # Random float x, 1.0 <= x < 10.0\n",
    "\n",
    "print(random.randrange(10))                 # Integer from 0 to 9\n",
    "\n",
    "print(random.randrange(0, 101, 2))          # Even integer from 0 to 100\n",
    "\n",
    "print(random.choice('abcdefghij'))          # Single random element\n",
    "\n",
    "items = [1, 2, 3, 4, 5, 6, 7]\n",
    "random.shuffle(items)\n",
    "print(items)\n",
    "\n",
    "print(random.sample([1, 2, 3, 4, 5],  3))   # Three samples without replacement"
   ]
  },
  {
   "cell_type": "markdown",
   "metadata": {},
   "source": [
    "### Turtle Graphics - shapes and pictures can easily be drawn!\n",
    "\n",
    "* Module name: turtle\n",
    "* Data types: Turtle and Screen\n",
    "* Methods: move forward and backword, turn left and right, goto, pen up and down. screen and pen settings (like color, color,filling,speed and size)."
   ]
  },
  {
   "cell_type": "code",
   "execution_count": null,
   "metadata": {
    "collapsed": true
   },
   "outputs": [],
   "source": [
    "import turtle             # Allows us to use turtles\n",
    "\n",
    "wn = turtle.Screen()      # Creates a playground for turtles\n",
    "alex = turtle.Turtle()    # Create a turtle, assign to alex\n",
    "\n",
    "\n",
    "alex.forward(50)          # Tell alex to move forward by 50 units\n",
    "alex.left(90)             # Tell alex to turn by 90 degrees\n",
    "alex.forward(30)          # Complete the second side of a rectangle\n",
    "\n",
    "wn.mainloop()             # Wait for user to close window"
   ]
  },
  {
   "cell_type": "code",
   "execution_count": null,
   "metadata": {
    "collapsed": true
   },
   "outputs": [],
   "source": [
    "import turtle as tr\n",
    "print(tr.__file__)\n",
    "help(tr)"
   ]
  },
  {
   "cell_type": "code",
   "execution_count": 1,
   "metadata": {
    "collapsed": true
   },
   "outputs": [],
   "source": [
    "import turtle\n",
    "wn = turtle.Screen()\n",
    "wn.bgcolor(\"lightgreen\")\n",
    "tess = turtle.Turtle()\n",
    "tess.shape(\"turtle\")\n",
    "tess.color(\"blue\")\n",
    "\n",
    "tess.penup()                # This is new\n",
    "size = 20\n",
    "for i in range(30):\n",
    "   tess.stamp()             # Leave an impression on the canvas\n",
    "   size = size + 3          # Increase the size on every iteration\n",
    "   tess.forward(size)       # Move tess along\n",
    "   tess.right(24)           #  ...  and turn her\n",
    "\n",
    "wn.mainloop()"
   ]
  },
  {
   "cell_type": "code",
   "execution_count": null,
   "metadata": {
    "collapsed": true
   },
   "outputs": [],
   "source": [
    "import turtle as tr\n",
    "\n",
    "wn = tr.Screen()      # Creates a playground for turtles\n",
    "myTurtle = tr.Turtle()\n",
    "\n",
    "myTurtle.color('red', 'blue')\n",
    "myTurtle.begin_fill()\n",
    "while True:\n",
    "    myTurtle.forward(170)\n",
    "    myTurtle.left(200)\n",
    "    if abs(myTurtle.pos()) < 1:\n",
    "        break\n",
    "myTurtle.end_fill()\n",
    "wn.mainloop()"
   ]
  },
  {
   "cell_type": "code",
   "execution_count": null,
   "metadata": {
    "collapsed": true
   },
   "outputs": [],
   "source": [
    "import turtle \n",
    "\n",
    "ninja = turtle.Turtle()\n",
    "\n",
    "ninja.speed(50)\n",
    "\n",
    "for i in range(180):\n",
    "    ninja.forward(100)\n",
    "    ninja.right(30)\n",
    "    ninja.forward(20)\n",
    "    ninja.left(60)\n",
    "    ninja.forward(50)\n",
    "    ninja.right(30)\n",
    "    \n",
    "    ninja.penup()\n",
    "    ninja.setposition(0, 0)\n",
    "    ninja.pendown()\n",
    "    \n",
    "    ninja.right(2)\n",
    "    \n",
    "turtle.done()"
   ]
  },
  {
   "cell_type": "markdown",
   "metadata": {},
   "source": [
    "### Recursion"
   ]
  },
  {
   "cell_type": "code",
   "execution_count": null,
   "metadata": {
    "collapsed": true
   },
   "outputs": [],
   "source": [
    "import turtle\n",
    "\n",
    "my_turtle = turtle.Turtle()\n",
    "my_win = turtle.Screen()\n",
    "\n",
    "def draw_spiral(my_turtle, line_len):\n",
    "    if line_len > 0:\n",
    "        my_turtle.forward(line_len)\n",
    "        my_turtle.right(90)\n",
    "        draw_spiral(my_turtle, line_len - 5)\n",
    "\n",
    "draw_spiral(my_turtle, 200)\n",
    "#my_win.exitonclick()"
   ]
  },
  {
   "cell_type": "markdown",
   "metadata": {
    "collapsed": true
   },
   "source": [
    "### PIL - Python Image Library\n",
    "\n",
    "* ##### extensive file format support\n",
    "* ##### efficient internal representation\n",
    "* ##### powerful image processing capabilities\n",
    "\n",
    "\n",
    "#### Useability:\n",
    "* Image Archives\n",
    "* Image Display\n",
    "* Image Processing: point operations, filtering, image resizing, rotation and arbitrary affine transforms, and histogram method allowing you to pull some statistics out of an image."
   ]
  },
  {
   "cell_type": "code",
   "execution_count": null,
   "metadata": {
    "collapsed": false
   },
   "outputs": [],
   "source": [
    "from PIL import Image, ImageFilter\n",
    "#Read image\n",
    "im = Image.open( 'images/boat.jpg' )\n",
    "#Display image\n",
    "im.show()\n"
   ]
  },
  {
   "cell_type": "code",
   "execution_count": null,
   "metadata": {
    "collapsed": true
   },
   "outputs": [],
   "source": [
    "#Applying a filter to the image\n",
    "im_sharp = im.filter( ImageFilter.SHARPEN )\n",
    "#Saving the filtered image to a new file\n",
    "im_sharp.save( 'images/boat_sharpened.jpg', 'JPEG' )\n",
    "\n",
    "im2 = Image.open( 'images/boat_sharpened.jpg' )\n",
    "#Display image\n",
    "im2.show()\n"
   ]
  },
  {
   "cell_type": "code",
   "execution_count": null,
   "metadata": {
    "collapsed": true
   },
   "outputs": [],
   "source": [
    "#plitting the image into its respective bands, i.e. Red, Green,\n",
    "#and Blue for RGB\n",
    "r,g,b = im.split()\n",
    "r.show()\n",
    "g.show()\n",
    "b.show()"
   ]
  },
  {
   "cell_type": "code",
   "execution_count": null,
   "metadata": {
    "collapsed": true
   },
   "outputs": [],
   "source": [
    "#rotate and resize\n",
    "im.transpose(Image.ROTATE_90).resize((300, 300)).show()"
   ]
  },
  {
   "cell_type": "code",
   "execution_count": null,
   "metadata": {
    "collapsed": true
   },
   "outputs": [],
   "source": [
    "# The point method can be used to translate the pixel values of an image (e.g. image contrast manipulation)\n",
    "im.point(lambda i: i * 5.0).show()"
   ]
  },
  {
   "cell_type": "code",
   "execution_count": null,
   "metadata": {
    "collapsed": false
   },
   "outputs": [],
   "source": [
    "from PIL import ImageEnhance\n",
    "\n",
    "enh = ImageEnhance.Contrast(im)\n",
    "enh.enhance(1.3).show(\"30% more contrast\")"
   ]
  }
 ],
 "metadata": {
  "kernelspec": {
   "display_name": "Python 3",
   "language": "python",
   "name": "python3"
  },
  "language_info": {
   "codemirror_mode": {
    "name": "ipython",
    "version": 3
   },
   "file_extension": ".py",
   "mimetype": "text/x-python",
   "name": "python",
   "nbconvert_exporter": "python",
   "pygments_lexer": "ipython3",
   "version": "3.5.1"
  }
 },
 "nbformat": 4,
 "nbformat_minor": 0
}
