{
 "cells": [
  {
   "cell_type": "markdown",
   "metadata": {},
   "source": [
    "### Dynamic Data Typing"
   ]
  },
  {
   "cell_type": "code",
   "execution_count": null,
   "metadata": {
    "collapsed": true
   },
   "outputs": [],
   "source": [
    "def max(x,y) :\n",
    "    if x > y :\n",
    "        return x\n",
    "    else :\n",
    "        return y\n",
    "\n",
    "print(max(3,5))\n",
    "print(max('hello', 'there'))\n",
    "print(max(3, 'hello'))\n"
   ]
  },
  {
   "cell_type": "code",
   "execution_count": 48,
   "metadata": {
    "collapsed": false
   },
   "outputs": [
    {
     "data": {
      "text/plain": [
       "(1, 2, 1, 0)"
      ]
     },
     "execution_count": 48,
     "metadata": {},
     "output_type": "execute_result"
    }
   ],
   "source": [
    "result = (x,y) \n",
    "result = (1,2)\n",
    "\n",
    "result = result + (1,0)\n",
    "result"
   ]
  },
  {
   "cell_type": "markdown",
   "metadata": {},
   "source": [
    "### Functions as Parameters"
   ]
  },
  {
   "cell_type": "code",
   "execution_count": null,
   "metadata": {
    "collapsed": false
   },
   "outputs": [],
   "source": [
    "def foo(f, a) :\n",
    "    return f(a)\n",
    "\n",
    "def bar(x) :\n",
    "    return x * x\n",
    "\n",
    "bar(5)\n",
    "foo(bar,3)"
   ]
  },
  {
   "cell_type": "markdown",
   "metadata": {},
   "source": [
    "### Functions Returning Functions"
   ]
  },
  {
   "cell_type": "code",
   "execution_count": null,
   "metadata": {
    "collapsed": false
   },
   "outputs": [],
   "source": [
    "def foo (x) :\n",
    "    def bar(y) :\n",
    "        return x + y\n",
    "    \n",
    "    return bar\n",
    "\n",
    "f = foo(3)\n",
    "#f(2)\n"
   ]
  },
  {
   "cell_type": "markdown",
   "metadata": {},
   "source": [
    "### Function Parameters: Defaults\n",
    "\n",
    "**The type of the default doesn’t limit the type of a parameter**"
   ]
  },
  {
   "cell_type": "code",
   "execution_count": null,
   "metadata": {
    "collapsed": false
   },
   "outputs": [],
   "source": [
    "def foo(x = 3):\n",
    "    print(x)\n",
    "\n",
    "foo()\n",
    "foo(10)\n",
    "foo('hello')"
   ]
  },
  {
   "cell_type": "markdown",
   "metadata": {},
   "source": [
    "### Function Parameters: Named"
   ]
  },
  {
   "cell_type": "code",
   "execution_count": null,
   "metadata": {
    "collapsed": false
   },
   "outputs": [],
   "source": [
    "def foo(a,b,c):\n",
    "    print(a, b, c)\n",
    "\n",
    "foo(c = 10, a = 2, b = 14)\n",
    "foo(3, c = 2, b = 19)\n",
    "foo(3, 4,c = 19)"
   ]
  },
  {
   "cell_type": "markdown",
   "metadata": {},
   "source": [
    "### Anonymous Functions\n",
    "\n",
    "* A **lambda** expression returns a function object\n",
    "* The body can only be a simple expression, not complex statements\n"
   ]
  },
  {
   "cell_type": "code",
   "execution_count": null,
   "metadata": {
    "collapsed": false
   },
   "outputs": [],
   "source": [
    "f = lambda x,y : x + y\n",
    "f(2,3)"
   ]
  },
  {
   "cell_type": "code",
   "execution_count": null,
   "metadata": {
    "collapsed": false
   },
   "outputs": [],
   "source": [
    "lst = ['one', lambda x,y : x * x + y, 3]\n",
    "lst[1](2,1)"
   ]
  },
  {
   "cell_type": "markdown",
   "metadata": {},
   "source": [
    "### Variable Scope"
   ]
  },
  {
   "cell_type": "code",
   "execution_count": 4,
   "metadata": {
    "collapsed": false
   },
   "outputs": [
    {
     "name": "stdout",
     "output_type": "stream",
     "text": [
      "2\n",
      "2\n"
     ]
    }
   ],
   "source": [
    "t1 = 1\n",
    "\n",
    "def f1():\n",
    "    global t1\n",
    "    t1 = 2\n",
    "    print(t1)\n",
    "    \n",
    "f1()    \n",
    "print(t1)"
   ]
  },
  {
   "cell_type": "markdown",
   "metadata": {},
   "source": [
    "### Passing tuples and dictionary items - Dynamic number of parameters"
   ]
  },
  {
   "cell_type": "code",
   "execution_count": 8,
   "metadata": {
    "collapsed": false
   },
   "outputs": [
    {
     "name": "stdout",
     "output_type": "stream",
     "text": [
      "6\n"
     ]
    }
   ],
   "source": [
    "def addnums(*args):\n",
    "    sum = 0\n",
    "    for num in args:\n",
    "        sum = sum + num\n",
    "    return sum\n",
    "        \n",
    "sum = addnums(2,3,1)\n",
    "print(sum)"
   ]
  },
  {
   "cell_type": "code",
   "execution_count": 12,
   "metadata": {
    "collapsed": false
   },
   "outputs": [
    {
     "name": "stdout",
     "output_type": "stream",
     "text": [
      "1\n",
      "((2, 3, 4, 5),)\n",
      "{'gender': 'M', 'name': 'anan', 'age': 50}\n"
     ]
    }
   ],
   "source": [
    "def foo(num,*args, **kwargs):\n",
    "    print(num)\n",
    "    print(args)\n",
    "    print(kwargs)\n",
    "\n",
    "foo(1,(2,3,4,5),name='anan',age=50, gender='M')"
   ]
  },
  {
   "cell_type": "markdown",
   "metadata": {},
   "source": [
    "### Higher-Order Functions\n",
    "\n",
    "**map(func,seq)**\n",
    "* for all i, applies func(seq[i]) and returns the corresponding sequence of the calculated results."
   ]
  },
  {
   "cell_type": "code",
   "execution_count": 16,
   "metadata": {
    "collapsed": false
   },
   "outputs": [
    {
     "data": {
      "text/plain": [
       "[0, 2, 4, 6, 8, 10, 12, 14, 16, 18]"
      ]
     },
     "execution_count": 16,
     "metadata": {},
     "output_type": "execute_result"
    }
   ],
   "source": [
    "\n",
    "\n",
    "\n",
    "lst = [0,1,2,3,4,5,6,7,8,9]\n",
    "list(map(lambda x:2*x,lst))\n"
   ]
  },
  {
   "cell_type": "markdown",
   "metadata": {},
   "source": [
    "### Higher-Order Functions\n",
    "\n",
    "**filter(boolfunc,seq)**\n",
    "* returns a sequence containing all those items in seq for which boolfunc is True."
   ]
  },
  {
   "cell_type": "code",
   "execution_count": 19,
   "metadata": {
    "collapsed": false
   },
   "outputs": [
    {
     "data": {
      "text/plain": [
       "[]"
      ]
     },
     "execution_count": 19,
     "metadata": {},
     "output_type": "execute_result"
    }
   ],
   "source": [
    "def even(x):\n",
    "    return ((x%2 == 3))\n",
    "            \n",
    "lst = [0,1,2,3,4,5,6,7,8,9]\n",
    "list(filter(even,lst))"
   ]
  },
  {
   "cell_type": "markdown",
   "metadata": {},
   "source": [
    "### Higher-Order Functions\n",
    "\n",
    "**reduce(func,seq)**\n",
    "* applies func to the items of seq, from left to right, two-at-time, to reduce the seq to a single value."
   ]
  },
  {
   "cell_type": "code",
   "execution_count": 22,
   "metadata": {
    "collapsed": false
   },
   "outputs": [
    {
     "data": {
      "text/plain": [
       "'hello'"
      ]
     },
     "execution_count": 22,
     "metadata": {},
     "output_type": "execute_result"
    }
   ],
   "source": [
    "import functools as ft\n",
    "def plus(x,y):\n",
    "    return (x + y)\n",
    "\n",
    "lst = ['h','e','l','l','o']\n",
    "ft.reduce(plus,lst)\n"
   ]
  },
  {
   "cell_type": "markdown",
   "metadata": {},
   "source": [
    "## Map two lists into a dictionary in Python"
   ]
  },
  {
   "cell_type": "code",
   "execution_count": 23,
   "metadata": {
    "collapsed": false
   },
   "outputs": [
    {
     "name": "stdout",
     "output_type": "stream",
     "text": [
      "{'food': 'spam', 'name': 'Monty', 'age': 42}\n"
     ]
    }
   ],
   "source": [
    "import timeit\n",
    "\n",
    "keys = ('name', 'age', 'food')\n",
    "values = ('Monty', 42, 'spam')\n",
    "\n",
    "dic = {k:v for k,v in zip(keys, values)}\n",
    "\n",
    "\n",
    "print(dic)  \n"
   ]
  },
  {
   "cell_type": "code",
   "execution_count": 24,
   "metadata": {
    "collapsed": false
   },
   "outputs": [
    {
     "name": "stdout",
     "output_type": "stream",
     "text": [
      "{'food': 'spam', 'name': 'Monty', 'age': 42}\n"
     ]
    }
   ],
   "source": [
    "dict = {keys[i]: values[i] for i in range(len(keys))}\n",
    "print(dict)\n",
    "\n"
   ]
  },
  {
   "cell_type": "code",
   "execution_count": 25,
   "metadata": {
    "collapsed": false
   },
   "outputs": [
    {
     "name": "stdout",
     "output_type": "stream",
     "text": [
      "1.0217706188377629\n",
      "1.4533828557499247\n"
     ]
    }
   ],
   "source": [
    "print(min(timeit.repeat(lambda: {k: v for k, v in zip(keys, values)})))\n",
    "\n",
    "print(min(timeit.repeat(lambda: {keys[i]: values[i] for i in range(len(keys))})))"
   ]
  },
  {
   "cell_type": "markdown",
   "metadata": {},
   "source": [
    "## Python's zip, map, and lambda\n",
    "\n",
    "* Assume that you've got two collections of values and you need to keep the largest (or smallest) from each. \n",
    "* These could be metrics from two different systems, stock quotes from two different services, or just about anything. "
   ]
  },
  {
   "cell_type": "code",
   "execution_count": 26,
   "metadata": {
    "collapsed": false
   },
   "outputs": [
    {
     "name": "stdout",
     "output_type": "stream",
     "text": [
      "[2, 2, 9, 4, 9]\n"
     ]
    }
   ],
   "source": [
    "#procedurally\n",
    "a = [1, 2, 3, 4, 5]\n",
    "b = [2, 2, 9, 0, 9]\n",
    "\n",
    "def pick_the_largest(a, b):\n",
    "    result = []  # A list of the largest values\n",
    "\n",
    "    # Assume both lists are the same length\n",
    "    list_length = len(a)\n",
    "    for i in range(list_length):\n",
    "        result.append(max(a[i], b[i]))\n",
    "    return result\n",
    "\n",
    "print(pick_the_largest(a, b))"
   ]
  },
  {
   "cell_type": "code",
   "execution_count": null,
   "metadata": {
    "collapsed": false
   },
   "outputs": [],
   "source": [
    "# functional \n",
    "a = [1, 2, 3, 4, 5]\n",
    "b = [2, 2, 9, 0, 9]\n",
    "list(map(lambda pair: max(pair), zip(a, b)))\n"
   ]
  },
  {
   "cell_type": "markdown",
   "metadata": {},
   "source": [
    "### Recursion"
   ]
  },
  {
   "cell_type": "code",
   "execution_count": null,
   "metadata": {
    "collapsed": true
   },
   "outputs": [],
   "source": [
    "def list_sum(num_list):\n",
    "    if len(num_list) == 1:\n",
    "        return num_list[0]\n",
    "    else:\n",
    "        return num_list[0] + list_sum(num_list[1:])\n",
    "    \n",
    "print(list_sum([1,3,5,7,9]))"
   ]
  },
  {
   "cell_type": "code",
   "execution_count": 30,
   "metadata": {
    "collapsed": false
   },
   "outputs": [],
   "source": [
    "def power(b,p):\n",
    "    \"\"\" inputs: base b and power p (an int)\n",
    "         implements: b**p = b*b**(p-1)\n",
    "    \"\"\"\n",
    "    if p == 0:\n",
    "        return 1 \n",
    "    if p > 0:\n",
    "        return b*power(b,p-1)\n",
    "\n",
    "\n",
    "power(2,-3)"
   ]
  },
  {
   "cell_type": "code",
   "execution_count": 32,
   "metadata": {
    "collapsed": false
   },
   "outputs": [
    {
     "data": {
      "text/plain": [
       "[4, 5, 6, 7, 8, 9, 10, 11, 12, 13, 14]"
      ]
     },
     "execution_count": 32,
     "metadata": {},
     "output_type": "execute_result"
    }
   ],
   "source": [
    "def my_range_list(low,hi):\n",
    "    \"\"\" input: two ints, low and hi\n",
    "        output: int list from low up to hi\n",
    "    \"\"\"\n",
    "    if hi <= low:\n",
    "        return []\n",
    "    else:\n",
    "        return [low] + my_range_list(low+1,hi)\n",
    "\n",
    "my_range_list(4,15)"
   ]
  },
  {
   "cell_type": "code",
   "execution_count": 33,
   "metadata": {
    "collapsed": false
   },
   "outputs": [
    {
     "data": {
      "text/plain": [
       "9"
      ]
     },
     "execution_count": 33,
     "metadata": {},
     "output_type": "execute_result"
    }
   ],
   "source": [
    "def mymax(L):\n",
    "    \"\"\" input: a NONEMPTY list, L\n",
    "        output: L's maximum element\n",
    "    \"\"\"\n",
    "    if len(L) == 1:\n",
    "        return L[0]\n",
    "    else:\n",
    "        if L[0] < L[1]:\n",
    "            return mymax( L[1:] )\n",
    "        else:\n",
    "            return mymax( L[0:1] + L[2:] ) \n",
    "                  \n",
    "mymax([3,9,0,-1])"
   ]
  },
  {
   "cell_type": "code",
   "execution_count": 34,
   "metadata": {
    "collapsed": false
   },
   "outputs": [
    {
     "data": {
      "text/plain": [
       "4"
      ]
     },
     "execution_count": 34,
     "metadata": {},
     "output_type": "execute_result"
    }
   ],
   "source": [
    "def mylen(s):\n",
    "    \"\"\" input: any string, s\n",
    "        output: the number of characters in s\n",
    "    \"\"\"\n",
    "    if s == '':\n",
    "        return 0\n",
    "    else:\n",
    "        return 1 + mylen( s[1:] )\n",
    "\n",
    "mylen('ABCD')"
   ]
  },
  {
   "cell_type": "markdown",
   "metadata": {},
   "source": [
    "### Use the in keyword to iterate over an iterable"
   ]
  },
  {
   "cell_type": "code",
   "execution_count": null,
   "metadata": {
    "collapsed": true
   },
   "outputs": [],
   "source": [
    "#Procedural\n",
    "my_list = ['Larry', 'Moe', 'Curly']\n",
    "index = 0\n",
    "while index < len(my_list):\n",
    "    print (my_list[index])\n",
    "    index += 1\n"
   ]
  },
  {
   "cell_type": "code",
   "execution_count": null,
   "metadata": {
    "collapsed": true
   },
   "outputs": [],
   "source": [
    "#Functional\n",
    "my_list = ['Larry', 'Moe', 'Curly']\n",
    "for element in my_list:\n",
    "    print (element)"
   ]
  },
  {
   "cell_type": "markdown",
   "metadata": {},
   "source": [
    "### Use the “enumerate” function in loops instead of creating an “index” variable\n"
   ]
  },
  {
   "cell_type": "code",
   "execution_count": null,
   "metadata": {
    "collapsed": true
   },
   "outputs": [],
   "source": [
    "#Procedural\n",
    "my_container = ['Larry', 'Moe', 'Curly']\n",
    "index = 0\n",
    "for element in my_container:\n",
    "    print ('{} {}'.format(index, element))\n",
    "    index += 1\n"
   ]
  },
  {
   "cell_type": "code",
   "execution_count": null,
   "metadata": {
    "collapsed": true
   },
   "outputs": [],
   "source": [
    "#Functional\n",
    "my_container = ['Larry', 'Moe', 'Curly']\n",
    "for index, element in enumerate(my_container):\n",
    "    print ('{} {}'.format(index, element))"
   ]
  },
  {
   "cell_type": "markdown",
   "metadata": {},
   "source": [
    "## Use list comprehension to create a transformed version of an existing list\n",
    "\n",
    "* Listcomps are clear & concise, up to a point. \n",
    "* You can have multiple for-loops and if-conditions in a listcomp\n",
    "* if the conditions are complex, regular for loops should be used. \n",
    "* Applying the Zen of Python, choose the more readable way."
   ]
  },
  {
   "cell_type": "code",
   "execution_count": null,
   "metadata": {
    "collapsed": false
   },
   "outputs": [],
   "source": [
    "#Bad\n",
    "original_list = range(10)\n",
    "new_list = list()\n",
    "for element in original_list:\n",
    "    if element % 2:\n",
    "        new_list.append(element + 5)\n",
    "print(new_list)"
   ]
  },
  {
   "cell_type": "code",
   "execution_count": null,
   "metadata": {
    "collapsed": false
   },
   "outputs": [],
   "source": [
    "#Good\n",
    "original_list = range(10)\n",
    "new_list = [element + 5 for element in original_list if element % 2]"
   ]
  },
  {
   "cell_type": "markdown",
   "metadata": {},
   "source": [
    "## Generator Expressions\n",
    "\n",
    "* Generator expressions (\"genexps\") are just like list comprehensions, \n",
    "* except that where listcomps are greedy, generator expressions are lazy. \n",
    "* Listcomps compute the entire result list all at once, as a list. \n",
    "* Generator expressions compute one value at a time, when needed, as individual values. \n",
    "* This is especially useful for long sequences where the computed list is just an intermediate step and not the final result.\n",
    "\n",
    "* The difference in syntax is that listcomps have square brackets, but generator expressions don't. \n",
    "* Generator expressions sometimes do require enclosing parentheses though, so you should always use them.\n",
    "* Rule of thumb:\n",
    " * Use a list comprehension when a computed list is the desired end result.\n",
    " * Use a generator expression when the computed list is just an intermediate step."
   ]
  },
  {
   "cell_type": "code",
   "execution_count": null,
   "metadata": {
    "collapsed": false
   },
   "outputs": [],
   "source": [
    "x = [i for i in range(10)]\n",
    "print(x)\n",
    "type(x)\n"
   ]
  },
  {
   "cell_type": "code",
   "execution_count": null,
   "metadata": {
    "collapsed": false
   },
   "outputs": [],
   "source": [
    "y = (i for i in range(10))\n",
    "print(y)\n",
    "type(y)"
   ]
  },
  {
   "cell_type": "code",
   "execution_count": null,
   "metadata": {
    "collapsed": false
   },
   "outputs": [],
   "source": [
    "print(next(y))"
   ]
  },
  {
   "cell_type": "code",
   "execution_count": null,
   "metadata": {
    "collapsed": false
   },
   "outputs": [],
   "source": [
    "# For example, if we were summing the squares of several billion integers, we'd run out of memory with list comprehensions!\n",
    "\n",
    "L = [i * i for i in range(100)]   #try 1000000000\n",
    "sum(L)"
   ]
  },
  {
   "cell_type": "code",
   "execution_count": null,
   "metadata": {
    "collapsed": false
   },
   "outputs": [],
   "source": [
    "L = (i * i for i in range(100))  #try 1000000000\n",
    "sum(L)"
   ]
  },
  {
   "cell_type": "markdown",
   "metadata": {},
   "source": [
    "## Generators - complex functions\n",
    "\n",
    "* The **yield** keyword turns a function into a generator. \n",
    "* When you call a generator function, instead of running the code immediately Python returns a generator object.\n",
    "* The generator object is an iterator; it has a next method. \n",
    "\n",
    "**This is how a for loop really works. Python looks at the sequence supplied after the in keyword. \n",
    "If it's a simple container (such as a list, tuple, dictionary, set, or user-defined container) Python converts it into an iterator. If it's already an iterator, Python uses it directly.**\n"
   ]
  },
  {
   "cell_type": "code",
   "execution_count": null,
   "metadata": {
    "collapsed": false
   },
   "outputs": [],
   "source": [
    "def my_range_generator(stop):\n",
    "    value = 0\n",
    "    while value < stop:\n",
    "        yield value\n",
    "        value += 1\n",
    "\n",
    "for i in my_range_generator(10):\n",
    "    print(i)"
   ]
  },
  {
   "cell_type": "code",
   "execution_count": null,
   "metadata": {
    "collapsed": false
   },
   "outputs": [],
   "source": [
    "gen = my_range_generator(30)\n"
   ]
  },
  {
   "cell_type": "code",
   "execution_count": null,
   "metadata": {
    "collapsed": false
   },
   "outputs": [],
   "source": [
    "next(gen)"
   ]
  },
  {
   "cell_type": "markdown",
   "metadata": {},
   "source": [
    "## Generator expression\n",
    "\n",
    "* Use a generator expression instead of a function if:\n",
    " * You only need the function in one place\n",
    " * You are just going to iterate once through the values"
   ]
  },
  {
   "cell_type": "code",
   "execution_count": null,
   "metadata": {
    "collapsed": false
   },
   "outputs": [],
   "source": [
    "def grep(lines, searchtext):\n",
    "    for line in lines:\n",
    "        if searchtext in line:\n",
    "            yield line\n",
    "            \n",
    "lines = \"line 1 \\n line 2 \\n line 3\"\n",
    "matchingLines = (line for line in lines if searchtext in line)"
   ]
  },
  {
   "cell_type": "markdown",
   "metadata": {},
   "source": [
    "## Use dict comprehension to build a dict clearly and efficiently\n",
    "\n",
    "Filter a list to construct a dictionary!\n",
    "(Recall that in list comprehension we filter a list to create another list)\n"
   ]
  },
  {
   "cell_type": "code",
   "execution_count": null,
   "metadata": {
    "collapsed": false
   },
   "outputs": [],
   "source": [
    "#Bad\n",
    "users_list = [('Jim','jim@a.com'),('Kim',''),('Frank','frank@a.com')]\n",
    "user_with_email = {}\n",
    "for user in users_list:\n",
    "    if user[1]:\n",
    "        user_with_email[user[0]] = user[1]\n",
    "print(user_with_email)"
   ]
  },
  {
   "cell_type": "code",
   "execution_count": null,
   "metadata": {
    "collapsed": false
   },
   "outputs": [],
   "source": [
    "#Good\n",
    "users_list = [('Jim','jim@a.com'),('Kim',''),('Frank','frank@a.com')]\n",
    "user_email = {user[0] : user[1] for user in users_list if user[0]}\n",
    "print(user_with_email)"
   ]
  },
  {
   "cell_type": "markdown",
   "metadata": {},
   "source": [
    "## Use set comprehension to generate sets concisely\n",
    "\n",
    "* The syntax is identical to list comprehension\n",
    "* Except for the enclosing characters\n",
    "* set behaves like a dictionary with keys but no values)"
   ]
  },
  {
   "cell_type": "code",
   "execution_count": null,
   "metadata": {
    "collapsed": false
   },
   "outputs": [],
   "source": [
    "# Bad\n",
    "users = ['Jim Winter', 'Thomas Winter','Thomas Fall']\n",
    "users_first_names = set()\n",
    "for user in users:\n",
    "    users_first_names.add(user.split()[0])\n",
    "    \n",
    "print(users_first_names)"
   ]
  },
  {
   "cell_type": "code",
   "execution_count": null,
   "metadata": {
    "collapsed": false
   },
   "outputs": [],
   "source": [
    "# Good\n",
    "users = ['Jim Winter', 'Thomas Winter','Thomas Fall']\n",
    "users_first_names = {user.split()[0] for user in users}\n",
    "\n",
    "print(users_first_names)"
   ]
  },
  {
   "cell_type": "markdown",
   "metadata": {},
   "source": [
    "## Use sets to eliminate duplicate entries from Iterable containers\n",
    "\n",
    "* Note that most often you do not need to convert the set back to a list\n",
    "* A set is an Iterable just like a list!\n",
    "* so you can use it in for loops, list comprehensions, etc."
   ]
  },
  {
   "cell_type": "code",
   "execution_count": null,
   "metadata": {
    "collapsed": false
   },
   "outputs": [],
   "source": [
    "#Bad\n",
    "employee_surnames = ('jim','kim','jim','alec')\n",
    "unique_surnames = []\n",
    "for surname in employee_surnames:\n",
    "    if surname not in unique_surnames:\n",
    "        unique_surnames.append(surname)\n",
    "print(unique_surnames)"
   ]
  },
  {
   "cell_type": "code",
   "execution_count": null,
   "metadata": {
    "collapsed": false
   },
   "outputs": [],
   "source": [
    "#Good\n",
    "employee_surnames = ('jim','kim','jim','alec')\n",
    "unique_surnames = set(employee_surnames)\n",
    "print(unique_surnames)"
   ]
  },
  {
   "cell_type": "markdown",
   "metadata": {},
   "source": [
    "## Understand and use the \"set\" mathematical set operations\n",
    "\n",
    "* Union: A | B\n",
    "* Intersection: A & B\n",
    "* Difference: A – B (Note: order matters here. A - B is not necessarily the same as B - A).\n",
    "* Symmetric Difference: ˆ B"
   ]
  },
  {
   "cell_type": "code",
   "execution_count": null,
   "metadata": {
    "collapsed": false
   },
   "outputs": [],
   "source": [
    "# Bad\n",
    "most_active_users = ('alec','steve','jim','fred')\n",
    "most_popular_users = ('sam','steve','jim')\n",
    "popular_and_active_users = []\n",
    "for user in most_active_users:\n",
    "    if user in most_popular_users:\n",
    "        popular_and_active_users.append(user)\n",
    "print(popular_and_active_users)"
   ]
  },
  {
   "cell_type": "code",
   "execution_count": 40,
   "metadata": {
    "collapsed": false
   },
   "outputs": [
    {
     "name": "stdout",
     "output_type": "stream",
     "text": [
      "{'fred', 'alec', 'sam'}\n"
     ]
    }
   ],
   "source": [
    "# Good\n",
    "most_active_users = {'alec','steve','jim','fred'}\n",
    "most_popular_users = {'sam','steve','jim'}\n",
    "popular_and_active_users =  most_popular_users ^ most_active_users \n",
    "print(popular_and_active_users)"
   ]
  },
  {
   "cell_type": "markdown",
   "metadata": {},
   "source": [
    "## Chain string functions to make a simple\n",
    "series of transformations more clear\n",
    "Too much chaining can make your code harder to follow.\n",
    "“No more than three chained functions” is a good rule of thumb.\n"
   ]
  },
  {
   "cell_type": "code",
   "execution_count": 41,
   "metadata": {
    "collapsed": false
   },
   "outputs": [
    {
     "name": "stdout",
     "output_type": "stream",
     "text": [
      "THE THREE MUSKETEERS by ALEXANDRE DUMAS\n"
     ]
    }
   ],
   "source": [
    "#Bad\n",
    "book_info = ' The Three Musketeers: Alexandre Dumas'\n",
    "formatted_book_info = book_info.strip()\n",
    "formatted_book_info = formatted_book_info.upper()\n",
    "formatted_book_info = formatted_book_info.replace(':', ' by')\n",
    "print(formatted_book_info)"
   ]
  },
  {
   "cell_type": "code",
   "execution_count": 42,
   "metadata": {
    "collapsed": false
   },
   "outputs": [
    {
     "name": "stdout",
     "output_type": "stream",
     "text": [
      "THE THREE MUSKETEERS by ALEXANDRE DUMAS\n"
     ]
    }
   ],
   "source": [
    "#Good\n",
    "book_info = ' The Three Musketeers: Alexandre Dumas'\n",
    "formatted_book_info = book_info.strip().upper().replace(':', ' by')\n",
    "print(formatted_book_info)"
   ]
  },
  {
   "cell_type": "markdown",
   "metadata": {},
   "source": [
    "## Prefer the format function for formatting strings\n"
   ]
  },
  {
   "cell_type": "code",
   "execution_count": null,
   "metadata": {
    "collapsed": false
   },
   "outputs": [],
   "source": [
    "#Bad\n",
    "def get_formatted_user_info_worst(name,age,sex):\n",
    "    # Tedious to type and prone to conversion errors\n",
    "    return 'Name: ' + name + ', Age: ' + str(age) + ', Sex: ' + sex\n",
    "print(get_formatted_user_info_worst('James',30,'M'))"
   ]
  },
  {
   "cell_type": "code",
   "execution_count": null,
   "metadata": {
    "collapsed": false
   },
   "outputs": [],
   "source": [
    "#Bad\n",
    "def get_formatted_user_info_slightly_better(name,age,sex):\n",
    "    # No visible connection between the format string placeholders\n",
    "    # and values to use. Also, why do I have to know the type?\n",
    "    return 'Name: %s, Age: %i, Sex: %c' % (name, age, sex)\n",
    "\n",
    "print(get_formatted_user_info_worst('James',30,'M'))"
   ]
  },
  {
   "cell_type": "code",
   "execution_count": null,
   "metadata": {
    "collapsed": false
   },
   "outputs": [],
   "source": [
    "#Good\n",
    "def get_formatted_user_info(name,age,sex):\n",
    "    # Clear and concise. At a glance I can tell exactly what\n",
    "    # the output should be.\n",
    "    output = 'Name: {name}, Age: {age}'', Sex: {sex}'.format(name,age,sex)\n",
    "    return output\n",
    "\n",
    "print(get_formatted_user_info_worst('James',30,'M'))"
   ]
  },
  {
   "cell_type": "markdown",
   "metadata": {},
   "source": [
    "## Use ''.join when creating a single string for list elements\n"
   ]
  },
  {
   "cell_type": "code",
   "execution_count": null,
   "metadata": {
    "collapsed": false
   },
   "outputs": [],
   "source": [
    "#Bad\n",
    "result_list = ['True', 'False', 'File not found']\n",
    "result_string = str() # or ''\n",
    "for result in result_list:\n",
    "    result_string += result\n",
    "print(result_string)"
   ]
  },
  {
   "cell_type": "code",
   "execution_count": null,
   "metadata": {
    "collapsed": false
   },
   "outputs": [],
   "source": [
    "#Good\n",
    "result_list = ['True', 'False', 'File not found']\n",
    "result_string = ''.join(result_list)\n",
    "print(result_string)"
   ]
  },
  {
   "cell_type": "markdown",
   "metadata": {},
   "source": [
    "## Use tuples to unpack data for multiple assignment\n"
   ]
  },
  {
   "cell_type": "code",
   "execution_count": null,
   "metadata": {
    "collapsed": false
   },
   "outputs": [],
   "source": [
    "#Bad\n",
    "l = ['dog', 'Fido', 10]\n",
    "animal = l[0]\n",
    "name = l[1]\n",
    "age = l[2]\n",
    "output = ('{name} the {animal} is {age} years old'.format(animal=animal, name=name, age=age))\n",
    "print(output)"
   ]
  },
  {
   "cell_type": "code",
   "execution_count": null,
   "metadata": {
    "collapsed": false
   },
   "outputs": [],
   "source": [
    "#Good\n",
    "l = ['dog', 'Fido', 10]\n",
    "(animal, name, age) = l\n",
    "output = ('{name} the {animal} is {age} years old'.format(animal=animal, name=name, age=age))\n",
    "print(output)"
   ]
  },
  {
   "cell_type": "markdown",
   "metadata": {},
   "source": [
    "## Avoid using a temporary variable when performing a swap of two values\n"
   ]
  },
  {
   "cell_type": "code",
   "execution_count": null,
   "metadata": {
    "collapsed": true
   },
   "outputs": [],
   "source": [
    "#Bad\n",
    "foo = 'Foo'\n",
    "bar = 'Bar'\n",
    "temp = foo\n",
    "foo = bar\n",
    "bar = temp"
   ]
  },
  {
   "cell_type": "code",
   "execution_count": null,
   "metadata": {
    "collapsed": true
   },
   "outputs": [],
   "source": [
    "#Good\n",
    "foo = 'Foo'\n",
    "bar = 'Bar'\n",
    "(foo, bar) = (bar, foo)"
   ]
  }
 ],
 "metadata": {
  "kernelspec": {
   "display_name": "Python 3",
   "language": "python",
   "name": "python3"
  },
  "language_info": {
   "codemirror_mode": {
    "name": "ipython",
    "version": 3
   },
   "file_extension": ".py",
   "mimetype": "text/x-python",
   "name": "python",
   "nbconvert_exporter": "python",
   "pygments_lexer": "ipython3",
   "version": "3.5.1"
  }
 },
 "nbformat": 4,
 "nbformat_minor": 0
}
