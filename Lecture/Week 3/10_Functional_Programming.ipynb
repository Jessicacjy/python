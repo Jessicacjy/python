{
 "cells": [
  {
   "cell_type": "markdown",
   "metadata": {},
   "source": [
    "### Use the in keyword to iterate over an iterable"
   ]
  },
  {
   "cell_type": "code",
   "execution_count": null,
   "metadata": {
    "collapsed": false,
    "scrolled": true
   },
   "outputs": [],
   "source": [
    "#Procedural\n",
    "my_list = ['Larry', 'Moe', 'Curly']\n",
    "index = 0\n",
    "while index < len(my_list):\n",
    "    print (my_list[index])\n",
    "    index += 1"
   ]
  },
  {
   "cell_type": "code",
   "execution_count": null,
   "metadata": {
    "collapsed": false
   },
   "outputs": [],
   "source": [
    "#Functional\n",
    "my_list = ['Larry', 'Moe', 'Curly']\n",
    "for element in my_list:\n",
    "    print (element)"
   ]
  },
  {
   "cell_type": "markdown",
   "metadata": {},
   "source": [
    "### Use the “enumerate” function in loops instead of creating an “index” variable\n"
   ]
  },
  {
   "cell_type": "code",
   "execution_count": null,
   "metadata": {
    "collapsed": false
   },
   "outputs": [],
   "source": [
    "#Procedural\n",
    "my_container = ['Larry', 'Moe', 'Curly']\n",
    "index = 0\n",
    "for element in my_container:\n",
    "    print ('{} {}'.format(index, element))\n",
    "    index += 1"
   ]
  },
  {
   "cell_type": "code",
   "execution_count": null,
   "metadata": {
    "collapsed": false
   },
   "outputs": [],
   "source": [
    "#Functional\n",
    "my_container = ['Larry', 'Moe', 'Curly']\n",
    "for index, element in enumerate(my_container):\n",
    "    print ('{} {}'.format(index, element))"
   ]
  },
  {
   "cell_type": "markdown",
   "metadata": {},
   "source": [
    "## Use list comprehension to create a transformed version of an existing list\n",
    "\n",
    "* Listcomps are clear & concise, up to a point. \n",
    "* You can have multiple for-loops and if-conditions in a listcomp\n",
    "* if the conditions are complex, regular for loops should be used. \n",
    "* Applying the Zen of Python, choose the more readable way."
   ]
  },
  {
   "cell_type": "code",
   "execution_count": null,
   "metadata": {
    "collapsed": false
   },
   "outputs": [],
   "source": [
    "#Bad\n",
    "original_list = range(10)\n",
    "new_list = list()\n",
    "for element in original_list:\n",
    "    if element % 2:\n",
    "        new_list.append(element + 5)\n",
    "print(new_list)"
   ]
  },
  {
   "cell_type": "code",
   "execution_count": null,
   "metadata": {
    "collapsed": false
   },
   "outputs": [],
   "source": [
    "#Good\n",
    "original_list = range(10)\n",
    "new_list = [element + 5 for element in original_list if element % 2]"
   ]
  },
  {
   "cell_type": "markdown",
   "metadata": {},
   "source": [
    "## Generator expression vs List comprehension\n",
    "* List comprehension will create the entire list in memory first while the generator expression will create items on the fly.\n",
    "* Generator can be used it for very large (and also infinite!) sequences.\n",
    "* Use list comprehensions when the result needs to be iterated over multiple times\n",
    "* List comprehension creates a new list. The generator creates a an iterable object that can be consumed on the fly.\n"
   ]
  },
  {
   "cell_type": "code",
   "execution_count": null,
   "metadata": {
    "collapsed": true
   },
   "outputs": [],
   "source": [
    "# Generator expression\n",
    "(x*2 for x in range(256))\n",
    "\n",
    "# List comprehension\n",
    "[x*2 for x in range(256)]"
   ]
  },
  {
   "cell_type": "code",
   "execution_count": null,
   "metadata": {
    "collapsed": true
   },
   "outputs": [],
   "source": [
    "myGen = (x*2 for x in range(256))"
   ]
  },
  {
   "cell_type": "code",
   "execution_count": null,
   "metadata": {
    "collapsed": false
   },
   "outputs": [],
   "source": [
    "next(myGen)"
   ]
  },
  {
   "cell_type": "code",
   "execution_count": null,
   "metadata": {
    "collapsed": true
   },
   "outputs": [],
   "source": [
    "#myGen[1:]\n",
    "for i in myGen:\n",
    "    print(i)"
   ]
  },
  {
   "cell_type": "markdown",
   "metadata": {},
   "source": [
    "## Generator Expressions\n",
    "\n",
    "* Generator expressions (\"genexps\") are just like list comprehensions, \n",
    "* except that where listcomps are greedy, generator expressions are lazy. \n",
    "* Listcomps compute the entire result list all at once, as a list. \n",
    "* Generator expressions compute one value at a time, when needed, as individual values. \n",
    "* This is especially useful for long sequences where the computed list is just an intermediate step and not the final result.\n",
    "\n",
    "* The difference in syntax is that listcomps have square brackets, but generator expressions don't. \n",
    "* Generator expressions sometimes do require enclosing parentheses though, so you should always use them.\n",
    "* Rule of thumb:\n",
    " * Use a list comprehension when a computed list is the desired end result.\n",
    " * Use a generator expression when the computed list is just an intermediate step."
   ]
  },
  {
   "cell_type": "code",
   "execution_count": null,
   "metadata": {
    "collapsed": true
   },
   "outputs": [],
   "source": [
    "# For example, if we were summing the squares of several billion integers, we'd run out of memory with list comprehensions!\n",
    "\n",
    "#total = sum(num * num for num in xrange(1, 1000000000))  - DO NOT RUN\n"
   ]
  },
  {
   "cell_type": "markdown",
   "metadata": {},
   "source": [
    "## Generator expression\n",
    "\n",
    "* Use a generator expression instead of a function if:\n",
    " * You only need the function in one place\n",
    " * You are just going to iterate once through the values"
   ]
  },
  {
   "cell_type": "code",
   "execution_count": null,
   "metadata": {
    "collapsed": false
   },
   "outputs": [],
   "source": [
    "def grep(lines, searchtext):\n",
    "    for line in lines:\n",
    "        if searchtext in line:\n",
    "            yield line\n",
    "            \n",
    "lines = \"line 1 \\n line 2 \\n line 3\"\n",
    "matchingLines = (line for line in lines if searchtext in line)"
   ]
  },
  {
   "cell_type": "markdown",
   "metadata": {},
   "source": [
    "## Generators - complex functions\n",
    "\n",
    "* The yield keyword turns a function into a generator. \n",
    "* When you call a generator function, instead of running the code immediately Python returns a generator object.\n",
    "* The generator object is an iterator; it has a next method. \n",
    "\n",
    "**This is how a for loop really works. Python looks at the sequence supplied after the in keyword. \n",
    "If it's a simple container (such as a list, tuple, dictionary, set, or user-defined container) Python converts it into an iterator. If it's already an iterator, Python uses it directly.**\n"
   ]
  },
  {
   "cell_type": "code",
   "execution_count": null,
   "metadata": {
    "collapsed": true
   },
   "outputs": [],
   "source": [
    "def my_range_generator(stop):\n",
    "    value = 0\n",
    "    while value < stop:\n",
    "        yield value\n",
    "        value += 1\n",
    "\n",
    "for i in my_range_generator(10):\n",
    "    print(i)"
   ]
  },
  {
   "cell_type": "markdown",
   "metadata": {},
   "source": [
    "### Generators built on mutable objects"
   ]
  },
  {
   "cell_type": "code",
   "execution_count": null,
   "metadata": {
    "collapsed": false
   },
   "outputs": [],
   "source": [
    "mylist = [\"a\", \"b\", \"c\"]\n",
    "gen = (elem + \"1\" for elem in mylist)\n",
    "#mylist.clear()\n",
    "for x in gen: \n",
    "    print (x)"
   ]
  },
  {
   "cell_type": "markdown",
   "metadata": {},
   "source": [
    "## Use dict comprehension to build a dict clearly and efficiently\n",
    "\n",
    "Filter a list to construct a dictionary!\n",
    "(Recall that in list comprehension we filter a list to create another list)\n"
   ]
  },
  {
   "cell_type": "code",
   "execution_count": null,
   "metadata": {
    "collapsed": false
   },
   "outputs": [],
   "source": [
    "#Bad\n",
    "users_list = [('Jim','jim@a.com'),('Kim',''),('Frank','frank@a.com')]\n",
    "user_with_email = {}\n",
    "for user in users_list:\n",
    "    if user[1]:\n",
    "        user_with_email[user[0]] = user[1]\n",
    "print(user_with_email)"
   ]
  },
  {
   "cell_type": "code",
   "execution_count": null,
   "metadata": {
    "collapsed": false
   },
   "outputs": [],
   "source": [
    "#Good\n",
    "users_list = [('Jim','jim@a.com'),('Kim',''),('Frank','frank@a.com')]\n",
    "user_email = {user[0] : user[1] for user in users_list if user[0]}\n",
    "print(user_with_email)"
   ]
  },
  {
   "cell_type": "markdown",
   "metadata": {},
   "source": [
    "## Use set comprehension to generate sets concisely\n",
    "\n",
    "* The syntax is identical to list comprehension\n",
    "* Except for the enclosing characters\n",
    "* set behaves like a dictionary with keys but no values)"
   ]
  },
  {
   "cell_type": "code",
   "execution_count": null,
   "metadata": {
    "collapsed": false
   },
   "outputs": [],
   "source": [
    "# Bad\n",
    "users = ['Jim Winter', 'Thomas Winter','Thomas Fall']\n",
    "users_first_names = set()\n",
    "for user in users:\n",
    "    users_first_names.add(user.split()[0])\n",
    "    \n",
    "print(users_first_names)"
   ]
  },
  {
   "cell_type": "code",
   "execution_count": null,
   "metadata": {
    "collapsed": false
   },
   "outputs": [],
   "source": [
    "# Good\n",
    "users = ['Jim Winter', 'Thomas Winter','Thomas Fall']\n",
    "users_first_names = {user.split()[0] for user in users}\n",
    "\n",
    "print(users_first_names)"
   ]
  },
  {
   "cell_type": "markdown",
   "metadata": {},
   "source": [
    "## HW"
   ]
  },
  {
   "cell_type": "code",
   "execution_count": null,
   "metadata": {
    "collapsed": false
   },
   "outputs": [],
   "source": [
    "L = [1,2,'abc',-2,'z']\n",
    "\n",
    "[len(i) if type(i) == str else 1  for i in L ]\n",
    "c = [(0,len(i)) if type(i) == str else (1,0)  for i in L ]\n",
    "c"
   ]
  },
  {
   "cell_type": "code",
   "execution_count": null,
   "metadata": {
    "collapsed": false
   },
   "outputs": [],
   "source": [
    "sum(item[1] for item in c)\n"
   ]
  }
 ],
 "metadata": {
  "kernelspec": {
   "display_name": "Python 3",
   "language": "python",
   "name": "python3"
  },
  "language_info": {
   "codemirror_mode": {
    "name": "ipython",
    "version": 3
   },
   "file_extension": ".py",
   "mimetype": "text/x-python",
   "name": "python",
   "nbconvert_exporter": "python",
   "pygments_lexer": "ipython3",
   "version": "3.5.1"
  }
 },
 "nbformat": 4,
 "nbformat_minor": 0
}
