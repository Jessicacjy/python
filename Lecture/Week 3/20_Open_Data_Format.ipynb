{
 "cells": [
  {
   "cell_type": "markdown",
   "metadata": {},
   "source": [
    "## Python open data file formats"
   ]
  },
  {
   "cell_type": "markdown",
   "metadata": {},
   "source": [
    "### JSON \n",
    "* simple file format that is very easy for any programming language to read.\n",
    "* Working with JSON in Python is almost the same such as working with a python dictionary. \n",
    "* You will need the json library."
   ]
  },
  {
   "cell_type": "code",
   "execution_count": 2,
   "metadata": {
    "collapsed": true
   },
   "outputs": [
    {
     "data": {
      "text/plain": [
       "{'felineIQ': None,\n",
       " 'isCat': True,\n",
       " 'miceCaught': 0,\n",
       " 'name': 'Zophie',\n",
       " 'napsTaken': 37.5}"
      ]
     },
     "execution_count": 2,
     "metadata": {},
     "output_type": "execute_result"
    }
   ],
   "source": [
    "import json\n",
    "json_data = open(\"sample_data.json\")\n",
    "data = json.load(json_data)\n",
    "data"
   ]
  },
  {
   "cell_type": "markdown",
   "metadata": {},
   "source": [
    "### XML \n",
    "* widely used format for data exchange\n",
    "* keep the structure in the data. \n",
    "* This is pretty easy in python as well. \n",
    "* You will need minidom library."
   ]
  },
  {
   "cell_type": "code",
   "execution_count": 13,
   "metadata": {
    "collapsed": false
   },
   "outputs": [
    {
     "name": "stdout",
     "output_type": "stream",
     "text": [
      "[<DOM Element: name at 0x49d16d0>, <DOM Element: name at 0x49d13d8>, <DOM Element: name at 0x49d1048>, <DOM Element: name at 0x49c8df0>, <DOM Element: name at 0x49c8af8>]\n"
     ]
    },
    {
     "ename": "AttributeError",
     "evalue": "'function' object has no attribute 'data'",
     "output_type": "error",
     "traceback": [
      "\u001b[1;31m---------------------------------------------------------------------------\u001b[0m",
      "\u001b[1;31mAttributeError\u001b[0m                            Traceback (most recent call last)",
      "\u001b[1;32m<ipython-input-13-15e47ca4eb3e>\u001b[0m in \u001b[0;36m<module>\u001b[1;34m()\u001b[0m\n\u001b[0;32m      4\u001b[0m \u001b[0mprint\u001b[0m\u001b[1;33m(\u001b[0m\u001b[0mitemlist\u001b[0m\u001b[1;33m)\u001b[0m\u001b[1;33m\u001b[0m\u001b[0m\n\u001b[0;32m      5\u001b[0m \u001b[1;32mfor\u001b[0m \u001b[0mi\u001b[0m \u001b[1;32min\u001b[0m \u001b[0mitemlist\u001b[0m\u001b[1;33m:\u001b[0m\u001b[1;33m\u001b[0m\u001b[0m\n\u001b[1;32m----> 6\u001b[1;33m     \u001b[0mprint\u001b[0m\u001b[1;33m(\u001b[0m\u001b[0mi\u001b[0m\u001b[1;33m.\u001b[0m\u001b[0mgetUserData\u001b[0m\u001b[1;33m.\u001b[0m\u001b[0mdata\u001b[0m\u001b[1;33m)\u001b[0m\u001b[1;33m\u001b[0m\u001b[0m\n\u001b[0m",
      "\u001b[1;31mAttributeError\u001b[0m: 'function' object has no attribute 'data'"
     ]
    }
   ],
   "source": [
    "from xml.dom import minidom\n",
    "xmldoc = minidom.parse(\"sample_data.xml\")\n",
    "itemlist = xmldoc.getElementsByTagName(\"name\")\n",
    "print(itemlist)\n",
    "for i in itemlist:\n",
    "    print(i.getUserData.data)"
   ]
  },
  {
   "cell_type": "markdown",
   "metadata": {},
   "source": [
    "### XLS - Spreadsheets. \n",
    "* example Microsoft Excel. \n",
    "* This data can often be used immediately with the correct descriptions of what the different columns mean. \n",
    "* use a tool like xls2csv and then use the output file as a csv.\n",
    "* best source I had www.python-excel.org. "
   ]
  },
  {
   "cell_type": "markdown",
   "metadata": {},
   "source": [
    "### CSV - Comma Separated Files\n",
    "* compact and thus suitable to transfer large sets of data with the same structure. \n",
    "* You can use the CSV python library. \n",
    "* exclude structural metadata from inside the document.\n",
    "* developers will need to create a parser that can interpret each document as it appears."
   ]
  },
  {
   "cell_type": "code",
   "execution_count": 1,
   "metadata": {
    "collapsed": false
   },
   "outputs": [
    {
     "data": {
      "text/plain": [
       "[['4/5/2015 13:34', 'Apples', '73'],\n",
       " ['4/5/2015 3:41', 'Cherries', '85'],\n",
       " ['4/6/2015 12:46', 'Pears', '14'],\n",
       " ['4/8/2015 8:59', 'Oranges', '52'],\n",
       " ['4/10/2015 2:07', 'Apples', '152'],\n",
       " ['4/10/2015 18:10', 'Bananas', '23'],\n",
       " ['4/10/2015 2:40', 'Strawberries', '98']]"
      ]
     },
     "execution_count": 1,
     "metadata": {},
     "output_type": "execute_result"
    }
   ],
   "source": [
    "import csv\n",
    "exampleFile = open('sample_data.csv')\n",
    "exampleReader = csv.reader(exampleFile)\n",
    "exampleData = list(exampleReader)\n",
    "exampleData"
   ]
  },
  {
   "cell_type": "code",
   "execution_count": null,
   "metadata": {
    "collapsed": true
   },
   "outputs": [],
   "source": [
    "import csv\n",
    "with open('eggs.csv', 'rb') as csvfile:\n",
    "   file = csv.reader(\"file root\", delimiter=' ', quotechar='|')\n",
    "   for row in file:\n",
    "      print ', '.join(row)"
   ]
  },
  {
   "cell_type": "markdown",
   "metadata": {},
   "source": [
    "### PDF \n",
    "* Many datasets have their data in pdf and unfortunately it isn’t easy to read and then edit them. \n",
    "* PDF is really presentation oriented and not content oriented.\n",
    "* But you can use PDFMiner to work with it."
   ]
  },
  {
   "cell_type": "markdown",
   "metadata": {},
   "source": [
    "### HTML\n",
    "* data is available in HTML format on various sites.\n",
    "* Presentation language (TAGs)\n",
    "* Yahoo has developed a tool yql that can extract structured information from a website.\n",
    "* python library called Beautiful Soup for my projects.\n",
    "\n"
   ]
  },
  {
   "cell_type": "code",
   "execution_count": null,
   "metadata": {
    "collapsed": true
   },
   "outputs": [],
   "source": [
    "from bs4 import BeautifulSoup\n",
    "soup = BeautifulSoup(html_file)\n",
    "soup.title\n",
    "soup.title.name\n",
    "soup.title.string\n",
    "soup.title.parent.name\n",
    "soup.p\n",
    "soup.p['class']\n",
    "soup.a\n",
    "soup.find_all('a')\n",
    "soup.find(id=\"link3\")"
   ]
  },
  {
   "cell_type": "markdown",
   "metadata": {},
   "source": [
    "### Scanned image. \n",
    "* TIFF and JPEG-2000 can at least mark them with documentation of what is in the picture.\n",
    "* If images are clean, containing only text and without any noise, you can use a library called pytesser. \n",
    "* You will need the PIL library to use it. \n"
   ]
  },
  {
   "cell_type": "code",
   "execution_count": 15,
   "metadata": {
    "collapsed": false
   },
   "outputs": [
    {
     "ename": "ImportError",
     "evalue": "No module named 'pytesser'",
     "output_type": "error",
     "traceback": [
      "\u001b[1;31m---------------------------------------------------------------------------\u001b[0m",
      "\u001b[1;31mImportError\u001b[0m                               Traceback (most recent call last)",
      "\u001b[1;32m<ipython-input-15-1b39a6f6db41>\u001b[0m in \u001b[0;36m<module>\u001b[1;34m()\u001b[0m\n\u001b[1;32m----> 1\u001b[1;33m \u001b[1;32mfrom\u001b[0m \u001b[0mpytesser\u001b[0m \u001b[1;32mimport\u001b[0m \u001b[1;33m*\u001b[0m\u001b[1;33m\u001b[0m\u001b[0m\n\u001b[0m\u001b[0;32m      2\u001b[0m \u001b[0mimage\u001b[0m \u001b[1;33m=\u001b[0m \u001b[0mImage\u001b[0m\u001b[1;33m.\u001b[0m\u001b[0mopen\u001b[0m\u001b[1;33m(\u001b[0m\u001b[1;34m'phototest.tif'\u001b[0m\u001b[1;33m)\u001b[0m  \u001b[1;31m# Open image object using PIL\u001b[0m\u001b[1;33m\u001b[0m\u001b[0m\n\u001b[0;32m      3\u001b[0m \u001b[0mprint\u001b[0m\u001b[1;33m(\u001b[0m\u001b[0mimage_to_string\u001b[0m\u001b[1;33m(\u001b[0m\u001b[0mimage\u001b[0m\u001b[1;33m)\u001b[0m\u001b[1;33m)\u001b[0m\u001b[1;33m\u001b[0m\u001b[0m\n",
      "\u001b[1;31mImportError\u001b[0m: No module named 'pytesser'"
     ]
    }
   ],
   "source": [
    "from pytesser import *\n",
    "image = Image.open('phototest.tif')  # Open image object using PIL\n",
    "print(image_to_string(image))"
   ]
  },
  {
   "cell_type": "markdown",
   "metadata": {},
   "source": [
    "### TXT - text files"
   ]
  },
  {
   "cell_type": "code",
   "execution_count": null,
   "metadata": {
    "collapsed": true
   },
   "outputs": [],
   "source": [
    "help(open)"
   ]
  },
  {
   "cell_type": "code",
   "execution_count": 17,
   "metadata": {
    "collapsed": false
   },
   "outputs": [
    {
     "name": "stdout",
     "output_type": "stream",
     "text": [
      "Failed to open file.\n"
     ]
    }
   ],
   "source": [
    "try:\n",
    "    text_file = open(\"file root\", \"r\")\n",
    "    lines = text_file.read()\n",
    "except OSError as e:\n",
    "    print(\"Failed to open file.\")"
   ]
  },
  {
   "cell_type": "code",
   "execution_count": null,
   "metadata": {
    "collapsed": false
   },
   "outputs": [],
   "source": [
    "# Write a file\n",
    "out_file = open(\"test.txt\", \"wt\")\n",
    "out_file.write(\"Sample File:\\n\")\n",
    "out_file.write(\"Line one\\n\")\n",
    "out_file.write(\"Line two\\n\")\n",
    "out_file.write(\"Line three\\n\")\n",
    "out_file.close()"
   ]
  },
  {
   "cell_type": "code",
   "execution_count": null,
   "metadata": {
    "collapsed": false
   },
   "outputs": [],
   "source": [
    "# Read a file\n",
    "in_file = open(\"test.txt\", \"rt\") \n",
    "text = in_file.read()\n",
    "text = '*'*40 + '\\n' + text + '\\n' +  '='*40\n",
    "\n",
    "print(text)\n"
   ]
  },
  {
   "cell_type": "code",
   "execution_count": null,
   "metadata": {
    "collapsed": false,
    "scrolled": true
   },
   "outputs": [],
   "source": [
    "f = open(\"test.txt\")  # Returns a file object\n",
    "line = f.readline()  # Invokes readline() method on file\n",
    "while line:\n",
    "    print('*' + line, end='')  # optional argument 'end' replaces newline character that print appends\n",
    "    line = f.readline()"
   ]
  },
  {
   "cell_type": "code",
   "execution_count": null,
   "metadata": {
    "collapsed": false
   },
   "outputs": [],
   "source": [
    "for line in open(\"test.txt\"):\n",
    "    print(line, end='')"
   ]
  },
  {
   "cell_type": "code",
   "execution_count": null,
   "metadata": {
    "collapsed": false
   },
   "outputs": [],
   "source": [
    "def printFile(filename):\n",
    "    '''\n",
    "    prints the content of the given file. Will raise an exception if file does not exist\n",
    "    '''\n",
    "    print(\"-\"*40)\n",
    "    print(filename)\n",
    "    print(\"-\"*40)\n",
    "    f = open(filename)  # Returns a file object\n",
    "    line = f.readline()  # Invokes readline() method on file\n",
    "    while line:\n",
    "        print(line, end='')  # optional argument 'end' replaces newline character that print appends\n",
    "        line = f.readline()\n",
    " \n",
    "printFile(\"test.txt\")\n"
   ]
  },
  {
   "cell_type": "markdown",
   "metadata": {},
   "source": [
    "### Check if file exist?"
   ]
  },
  {
   "cell_type": "code",
   "execution_count": null,
   "metadata": {
    "collapsed": false
   },
   "outputs": [],
   "source": [
    "import os\n",
    "os.path.exists('test123.txt')"
   ]
  },
  {
   "cell_type": "code",
   "execution_count": null,
   "metadata": {
    "collapsed": false
   },
   "outputs": [],
   "source": [
    "# word count example\n",
    "\n",
    "file=open(\"test.txt\",\"r+\")\n",
    "wordcount={}\n",
    "for word in file.read().split():\n",
    "    if word not in wordcount:\n",
    "        wordcount[word] = 1\n",
    "    else:\n",
    "        wordcount[word] += 1\n",
    "#for k,v in wordcount.items():\n",
    "#    print (k, v)\n",
    "wordcount"
   ]
  }
 ],
 "metadata": {
  "kernelspec": {
   "display_name": "Python 3",
   "language": "python",
   "name": "python3"
  },
  "language_info": {
   "codemirror_mode": {
    "name": "ipython",
    "version": 3
   },
   "file_extension": ".py",
   "mimetype": "text/x-python",
   "name": "python",
   "nbconvert_exporter": "python",
   "pygments_lexer": "ipython3",
   "version": "3.5.1"
  }
 },
 "nbformat": 4,
 "nbformat_minor": 0
}
