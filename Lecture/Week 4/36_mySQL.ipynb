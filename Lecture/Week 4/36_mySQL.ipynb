{
 "cells": [
  {
   "cell_type": "markdown",
   "metadata": {},
   "source": [
    "# Panda and mySQL\n",
    "\n",
    "##### Download MySQL Community Server\n",
    "http://dev.mysql.com/downloads/mysql/\n",
    "\n",
    "##### Install the following:\n",
    "* MySQL Server\n",
    "* Samples and Examples\n",
    "* MySQL Workbench"
   ]
  },
  {
   "cell_type": "markdown",
   "metadata": {},
   "source": [
    "### world database sample \n",
    "* country\n",
    "* City\n",
    "* Language\n",
    "\n",
    "GNP: Gross National Product - measure of a country's economic performance, or what its citizens produced (i.e. goods and services) and whether they produced these items within its borders."
   ]
  },
  {
   "cell_type": "markdown",
   "metadata": {},
   "source": [
    "### Install PyMySql python package form pip\n",
    "\n",
    "from command prompt:  c:\\>python pip install PyMySql"
   ]
  },
  {
   "cell_type": "code",
   "execution_count": null,
   "metadata": {
    "collapsed": false
   },
   "outputs": [],
   "source": [
    "%matplotlib inline\n",
    "\n",
    "import pandas as pd\n",
    "import matplotlib.pyplot as plt\n",
    "import numpy as np\n",
    "import pymysql"
   ]
  },
  {
   "cell_type": "code",
   "execution_count": null,
   "metadata": {
    "collapsed": false
   },
   "outputs": [],
   "source": [
    "cnx = pymysql.connect(user='sasa', \\\n",
    "      password='sasa', \\\n",
    "      host= '127.0.0.1', \\\n",
    "      port=3306, \\\n",
    "      db='world', \\\n",
    "      autocommit=True)"
   ]
  },
  {
   "cell_type": "code",
   "execution_count": null,
   "metadata": {
    "collapsed": false
   },
   "outputs": [],
   "source": [
    "df_country = pd.read_sql_query('select * from Country', con=cnx,index_col='Code')\n",
    "df_city = pd.read_sql_query('select * from city', con=cnx,index_col='ID')\n",
    "df_countrylanguage = pd.read_sql_query('select * from countrylanguage', con=cnx,index_col=['CountryCode','Language'])"
   ]
  },
  {
   "cell_type": "code",
   "execution_count": null,
   "metadata": {
    "collapsed": true
   },
   "outputs": [],
   "source": [
    "df_city.head()"
   ]
  },
  {
   "cell_type": "code",
   "execution_count": null,
   "metadata": {
    "collapsed": true
   },
   "outputs": [],
   "source": [
    "df_country.tail()"
   ]
  },
  {
   "cell_type": "code",
   "execution_count": null,
   "metadata": {
    "collapsed": true
   },
   "outputs": [],
   "source": [
    "df_country.describe()"
   ]
  },
  {
   "cell_type": "code",
   "execution_count": null,
   "metadata": {
    "collapsed": true
   },
   "outputs": [],
   "source": [
    "df_countrylanguage.tail()  "
   ]
  },
  {
   "cell_type": "code",
   "execution_count": null,
   "metadata": {
    "collapsed": true
   },
   "outputs": [],
   "source": [
    "#df2 = df_country[['GNP','LifeExpectancy']]\n",
    "df2 = df_country[['GNP','LifeExpectancy']].query('(GNP < 50000) & (GNP > 1000) & (LifeExpectancy > 0)')\n",
    "#df2.describe()\n",
    "df2"
   ]
  },
  {
   "cell_type": "code",
   "execution_count": null,
   "metadata": {
    "collapsed": false
   },
   "outputs": [],
   "source": [
    "df2.plot(kind='scatter', x='GNP', y='LifeExpectancy', color='DarkBlue')\n"
   ]
  },
  {
   "cell_type": "code",
   "execution_count": null,
   "metadata": {
    "collapsed": false
   },
   "outputs": [],
   "source": [
    "df3 = df_country.query('Continent == \"South America\"')['Population']"
   ]
  },
  {
   "cell_type": "code",
   "execution_count": null,
   "metadata": {
    "collapsed": false
   },
   "outputs": [],
   "source": [
    "df3"
   ]
  },
  {
   "cell_type": "code",
   "execution_count": null,
   "metadata": {
    "collapsed": false
   },
   "outputs": [],
   "source": [
    "df3.plot(kind='bar')"
   ]
  }
 ],
 "metadata": {
  "kernelspec": {
   "display_name": "Python 3",
   "language": "python",
   "name": "python3"
  },
  "language_info": {
   "codemirror_mode": {
    "name": "ipython",
    "version": 3
   },
   "file_extension": ".py",
   "mimetype": "text/x-python",
   "name": "python",
   "nbconvert_exporter": "python",
   "pygments_lexer": "ipython3",
   "version": "3.5.1"
  }
 },
 "nbformat": 4,
 "nbformat_minor": 0
}
