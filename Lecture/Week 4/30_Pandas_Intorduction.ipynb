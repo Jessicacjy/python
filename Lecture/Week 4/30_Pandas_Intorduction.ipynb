{
 "cells": [
  {
   "cell_type": "markdown",
   "metadata": {},
   "source": [
    "## pandas is a Python package \n",
    "* provides fast, flexible, and expressive data structures \n",
    "* designed to make working with “relational” or “labeled” data both easy and intuitive. \n",
    "* pandas is well suited for many different kinds of data:\n",
    "    * Tabular data with heterogeneously-typed columns, as in an SQL table or Excel spreadsheet\n",
    "    * Ordered and unordered (not necessarily fixed-frequency) time series data.\n",
    "* handle the vast majority of typical use cases in:\n",
    "    * finance, statistics, social science, and many areas of engineering. \n",
    "* DataFrame provides everything that R’s data.frame provides and much more. \n",
    "* pandas is built on top of NumPy\n",
    "* integrate well within a scientific computing environment (PySci) and with many other 3rd party libraries.\n",
    "\n",
    "## data structures of pandas\n",
    "* Series (1-dimensional)  \n",
    "* DataFrame (2-dimensional) \n",
    "* Other Objects (i.e. indexing)\n",
    "\n",
    "\n",
    "### Documentation: http://pandas.pydata.org/pandas-docs/stable/\n"
   ]
  },
  {
   "cell_type": "markdown",
   "metadata": {},
   "source": [
    "### What problem does pandas solve?\n",
    "\n",
    "* Analysis\n",
    "* Manipulation\n",
    "* Visulization\n"
   ]
  },
  {
   "cell_type": "code",
   "execution_count": null,
   "metadata": {
    "collapsed": true
   },
   "outputs": [],
   "source": [
    "import pandas as pd\n",
    "import matplotlib.pyplot as plt\n",
    "import numpy as np\n",
    "dir(pd)"
   ]
  },
  {
   "cell_type": "code",
   "execution_count": null,
   "metadata": {
    "collapsed": true
   },
   "outputs": [],
   "source": [
    "\n",
    "print(pd.__file__)\n",
    "print(pd.__name__)\n",
    "print(pd.__package__)\n",
    "print(pd.__version__)\n",
    "print(pd.__doc__)"
   ]
  },
  {
   "cell_type": "markdown",
   "metadata": {},
   "source": [
    "### For data scientists, working with data is typically divided into multiple stages: \n",
    "* Data Wrangling: Clean, Transform, Merge, and Reshapeloading.\n",
    "* munging (deep dive)\n",
    "* reporting\n",
    "* analyzing\n",
    "* modeling \n",
    "* tell story: organizing the results of the analysis into a form suitable for plotting or tabular display (**visualization**). \n",
    "    \n",
    "#### pandas is the ideal tool for all of above tasks"
   ]
  },
  {
   "cell_type": "markdown",
   "metadata": {},
   "source": [
    "### Here are just a few of the things that pandas does well:\n",
    "\n",
    "* missing data (represented as NaN)\n",
    "* Size mutability: add/delete columns from DataFrame\n",
    "* Automatic and explicit key assignment -- data alignment\n",
    "* flexible group by functionality to perform split-apply-combine \n",
    "* Intelligent label-based slicing, fancy indexing, and subsetting of large data sets\n",
    "* Intuitive merging and joining data sets\n",
    "* Flexible reshaping and pivoting of data sets\n",
    "* Hierarchical labeling of axes (possible to have multiple labels per tick)\n",
    "* Robust IO tools for loading data from flat files (CSV and delimited), Excel files, databases, and WEB.\n",
    "* Time series-specific functionality: date range generation and frequency conversion, moving window statistics, moving window linear regressions, date shifting and lagging, etc."
   ]
  },
  {
   "cell_type": "markdown",
   "metadata": {},
   "source": [
    "### Some other notes:\n",
    "* pandas is fast. Many of the low-level algorithmic bits have been extensively tweaked in Cython code.\n",
    "* pandas is a dependency of statsmodels, making it an important part of the statistical computing ecosystem in Python.\n",
    "* pandas has been used extensively in production in financial applications."
   ]
  },
  {
   "cell_type": "markdown",
   "metadata": {
    "collapsed": true
   },
   "source": [
    "## Other Tools\n",
    "* Relational DB\n",
    "    * NULL, PRIMARY KEY, SELECT, PROJECT, FILTER, SUMMARY, JOIN, INDEXING, UPDATE, INSERT, ALTER\n",
    "* Sheets\n",
    "    * statistical models\n",
    "        * Predections\n",
    "        * Trends\n",
    "        * Learning system\n",
    "    * pivoting\n",
    "* Visulization\n",
    "    * SAS\n",
    "    * SpotFire\n"
   ]
  },
  {
   "cell_type": "markdown",
   "metadata": {},
   "source": [
    "## Series"
   ]
  },
  {
   "cell_type": "code",
   "execution_count": null,
   "metadata": {
    "collapsed": true
   },
   "outputs": [],
   "source": [
    "import pandas as pd\n",
    "import matplotlib.pyplot as plt\n",
    "import numpy as np"
   ]
  },
  {
   "cell_type": "code",
   "execution_count": null,
   "metadata": {
    "collapsed": false
   },
   "outputs": [],
   "source": [
    "s = pd.Series([7, 'Heisenberg', 3.14, -1789710578, 'Happy Eating!'],\n",
    "              index=['A', 'Z', 'C', 'Y', 'E'])\n",
    "s"
   ]
  },
  {
   "cell_type": "code",
   "execution_count": null,
   "metadata": {
    "collapsed": false
   },
   "outputs": [],
   "source": [
    "s['C':'E']"
   ]
  },
  {
   "cell_type": "code",
   "execution_count": null,
   "metadata": {
    "collapsed": false
   },
   "outputs": [],
   "source": [
    "s.head()"
   ]
  },
  {
   "cell_type": "code",
   "execution_count": null,
   "metadata": {
    "collapsed": false
   },
   "outputs": [],
   "source": [
    "s.count()"
   ]
  },
  {
   "cell_type": "code",
   "execution_count": null,
   "metadata": {
    "collapsed": false
   },
   "outputs": [],
   "source": [
    "type(s)"
   ]
  },
  {
   "cell_type": "code",
   "execution_count": null,
   "metadata": {
    "collapsed": false
   },
   "outputs": [],
   "source": [
    "d = {'Chicago': 1000, 'New York': 1300, 'Portland': 900, 'San Francisco': 1100,\n",
    "     'Austin': 450, 'Boston': None}\n",
    "cities = pd.Series(d)\n",
    "cities"
   ]
  },
  {
   "cell_type": "markdown",
   "metadata": {},
   "source": [
    "### DataFrame - Attributes and Methods\n",
    "\n",
    "http://pandas.pydata.org/pandas-docs/stable/generated/pandas.DataFrame.html"
   ]
  },
  {
   "cell_type": "code",
   "execution_count": null,
   "metadata": {
    "collapsed": false
   },
   "outputs": [],
   "source": [
    "data = {'year': [2010, 2011, 2012, 2011, 2012, 2010, 2011, 2012],\n",
    "        'team': ['Bears', 'Bears', 'Bears', 'Packers', 'Packers', 'Lions', 'Lions', 'Lions'],\n",
    "        'wins': [11, 8, 10, 15, 11, 6, 10, 4],\n",
    "        'losses': [5, 8, 6, 1, 5, 10, 6, 12]}\n",
    "football = pd.DataFrame(data, columns=['year', 'team', 'wins', 'losses'])\n",
    "football\n"
   ]
  }
 ],
 "metadata": {
  "kernelspec": {
   "display_name": "Python 3",
   "language": "python",
   "name": "python3"
  },
  "language_info": {
   "codemirror_mode": {
    "name": "ipython",
    "version": 3
   },
   "file_extension": ".py",
   "mimetype": "text/x-python",
   "name": "python",
   "nbconvert_exporter": "python",
   "pygments_lexer": "ipython3",
   "version": "3.5.1"
  }
 },
 "nbformat": 4,
 "nbformat_minor": 0
}
