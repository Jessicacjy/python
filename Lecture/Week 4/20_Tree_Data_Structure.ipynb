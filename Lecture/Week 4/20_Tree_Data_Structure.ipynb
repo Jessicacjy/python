{
 "cells": [
  {
   "cell_type": "markdown",
   "metadata": {},
   "source": [
    "### Binary Trees\n",
    "\n",
    "#### List of Lists"
   ]
  },
  {
   "cell_type": "code",
   "execution_count": 2,
   "metadata": {
    "collapsed": true
   },
   "outputs": [],
   "source": [
    "def binary_tree(r):\n",
    "    return [r, [], []]\n",
    "\n",
    "def insert_left(root, new_branch):\n",
    "    t = root.pop(1)\n",
    "    if len(t) > 1:\n",
    "        root.insert(1, [new_branch, t, []])\n",
    "    else:\n",
    "        root.insert(1, [new_branch, [], []])\n",
    "    return root\n",
    "\n",
    "def insert_right(root, new_branch):\n",
    "    t = root.pop(2)\n",
    "    if len(t) > 1:\n",
    "        root.insert(2, [new_branch, [], t])\n",
    "    else:\n",
    "        root.insert(2, [new_branch, [], []])\n",
    "    return root\n",
    "\n",
    "def get_root_val(root):\n",
    "    return root[0]\n",
    "\n",
    "def set_root_val(root, new_val):\n",
    "    root[0] = new_val\n",
    "\n",
    "def get_left_child(root):\n",
    "    return root[1]\n",
    "\n",
    "def get_right_child(root):\n",
    "    return root[2]\n"
   ]
  },
  {
   "cell_type": "code",
   "execution_count": 5,
   "metadata": {
    "collapsed": false
   },
   "outputs": [
    {
     "name": "stdout",
     "output_type": "stream",
     "text": [
      "[3, [], []]\n",
      "[3, [4, [], []], []]\n",
      "[3, [5, [4, [], []], []], []]\n",
      "[3, [5, [4, [], []], []], [6, [], []]]\n",
      "[3, [5, [4, [], []], []], [7, [], [6, [], []]]]\n"
     ]
    }
   ],
   "source": [
    "r = binary_tree(3)\n",
    "print(r)\n",
    "insert_left(r, 4)\n",
    "print(r)\n",
    "insert_left(r, 5)\n",
    "print(r)\n",
    "insert_right(r, 6)\n",
    "print(r)\n",
    "insert_right(r, 7)\n",
    "print(r)\n"
   ]
  },
  {
   "cell_type": "code",
   "execution_count": 6,
   "metadata": {
    "collapsed": false
   },
   "outputs": [
    {
     "name": "stdout",
     "output_type": "stream",
     "text": [
      "[5, [4, [], []], []]\n",
      "[3, [9, [4, [], []], []], [7, [], [6, [], []]]]\n",
      "[3, [9, [11, [4, [], []], []], []], [7, [], [6, [], []]]]\n"
     ]
    }
   ],
   "source": [
    "l = get_left_child(r)\n",
    "print(l)\n",
    "set_root_val(l, 9)\n",
    "print(r)\n",
    "insert_left(l, 11)\n",
    "print(r)"
   ]
  },
  {
   "cell_type": "markdown",
   "metadata": {},
   "source": [
    "#### Nodes and References"
   ]
  },
  {
   "cell_type": "code",
   "execution_count": 7,
   "metadata": {
    "collapsed": false
   },
   "outputs": [],
   "source": [
    "class BinaryTree:\n",
    "    def __init__(self, root):\n",
    "        self.key = root\n",
    "        self.left_child = None\n",
    "        self.right_child = None\n",
    "    \n",
    "    def insert_left(self, new_node):\n",
    "        if self.left_child == None:\n",
    "            self.left_child = BinaryTree(new_node)\n",
    "        else:\n",
    "            t = BinaryTree(new_node)\n",
    "            t.left_child = self.left_child\n",
    "            self.left_child = t\n",
    "\n",
    "    def insert_right(self, new_node):\n",
    "        if self.right_child == None:\n",
    "            self.right_child = BinaryTree(new_node)\n",
    "        else:\n",
    "            t = BinaryTree(new_node)\n",
    "            t.right_child = self.right_child\n",
    "            self.right_child = t\n",
    "\n",
    "    def get_right_child(self):\n",
    "        return self.right_child\n",
    "    def get_left_child(self):\n",
    "        return self.left_child\n",
    "    def set_root_val(self, obj):\n",
    "        self.key = obj\n",
    "    def get_root_val(self):\n",
    "        return self.key"
   ]
  },
  {
   "cell_type": "code",
   "execution_count": 8,
   "metadata": {
    "collapsed": false
   },
   "outputs": [
    {
     "name": "stdout",
     "output_type": "stream",
     "text": [
      "a\n",
      "None\n",
      "<__main__.BinaryTree object at 0x0000021F931877B8>\n",
      "b\n",
      "<__main__.BinaryTree object at 0x0000021F931878D0>\n",
      "c\n",
      "hello\n"
     ]
    }
   ],
   "source": [
    "r = BinaryTree('a')\n",
    "print(r.get_root_val())\n",
    "print(r.get_left_child())\n",
    "r.insert_left('b')\n",
    "print(r.get_left_child())\n",
    "print(r.get_left_child().get_root_val())\n",
    "r.insert_right('c')\n",
    "print(r.get_right_child())\n",
    "print(r.get_right_child().get_root_val())\n",
    "r.get_right_child().set_root_val('hello')\n",
    "print(r.get_right_child().get_root_val())"
   ]
  },
  {
   "cell_type": "code",
   "execution_count": null,
   "metadata": {
    "collapsed": true
   },
   "outputs": [],
   "source": []
  }
 ],
 "metadata": {
  "kernelspec": {
   "display_name": "Python 3",
   "language": "python",
   "name": "python3"
  },
  "language_info": {
   "codemirror_mode": {
    "name": "ipython",
    "version": 3
   },
   "file_extension": ".py",
   "mimetype": "text/x-python",
   "name": "python",
   "nbconvert_exporter": "python",
   "pygments_lexer": "ipython3",
   "version": "3.5.1"
  }
 },
 "nbformat": 4,
 "nbformat_minor": 0
}
