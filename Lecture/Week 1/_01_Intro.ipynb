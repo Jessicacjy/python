{
 "cells": [
  {
   "cell_type": "markdown",
   "metadata": {},
   "source": [
    "## History of Python\n",
    "* Python was conceived in the late 1980s\n",
    "* Implementation was started in December 1989 by Guido van Rossum in the Netherlands\n",
    "* Python 2.0 - October 16, 2000 ... Python 2.7 - July 3, 2010\n",
    "* Python 3.0 - December 3, 2008 ... Python 3.5 - September 13, 2015\n"
   ]
  },
  {
   "cell_type": "markdown",
   "metadata": {},
   "source": [
    "## Python - Philosophy\n",
    "\n",
    "* Multi-paradigm language: \n",
    "    * object-orientation.\n",
    "    * structured programming.\n",
    "    * functional programming.\n",
    "* Zen of python\n"
   ]
  },
  {
   "cell_type": "code",
   "execution_count": 1,
   "metadata": {
    "collapsed": false
   },
   "outputs": [
    {
     "name": "stdout",
     "output_type": "stream",
     "text": [
      "The Zen of Python, by Tim Peters\n",
      "\n",
      "Beautiful is better than ugly.\n",
      "Explicit is better than implicit.\n",
      "Simple is better than complex.\n",
      "Complex is better than complicated.\n",
      "Flat is better than nested.\n",
      "Sparse is better than dense.\n",
      "Readability counts.\n",
      "Special cases aren't special enough to break the rules.\n",
      "Although practicality beats purity.\n",
      "Errors should never pass silently.\n",
      "Unless explicitly silenced.\n",
      "In the face of ambiguity, refuse the temptation to guess.\n",
      "There should be one-- and preferably only one --obvious way to do it.\n",
      "Although that way may not be obvious at first unless you're Dutch.\n",
      "Now is better than never.\n",
      "Although never is often better than *right* now.\n",
      "If the implementation is hard to explain, it's a bad idea.\n",
      "If the implementation is easy to explain, it may be a good idea.\n",
      "Namespaces are one honking great idea -- let's do more of those!\n"
     ]
    }
   ],
   "source": [
    "import this"
   ]
  },
  {
   "cell_type": "markdown",
   "metadata": {},
   "source": [
    "## Python - Programming Language\n",
    "\n",
    "* #### Agile (scratch/helpers)\n",
    "+ #### Interpreted\n",
    "+ #### Interactive\n",
    "+ #### Object-oriented\n",
    "+ #### Runs on virtually all systems\n",
    "+ #### Interfaces to many libraries\n",
    "+ #### Clean syntax\n",
    "+ #### Slow but extensible in C or C++\n",
    "+ #### Excellent online documentation\n",
    "+ #### Open Source/ Open Extendable (your age after 10 years)"
   ]
  },
  {
   "cell_type": "markdown",
   "metadata": {},
   "source": [
    "\n",
    "\n"
   ]
  },
  {
   "cell_type": "markdown",
   "metadata": {},
   "source": [
    "From SciPy.org\n",
    "\n",
    "http://www.scipy.org/index.html\n",
    "\n",
    "\n",
    "## Scientific Computing Tools for Python ##\n",
    " \n",
    "### The SciPy Stack Core Packages\n",
    "\n",
    "* Python, a general purpose programming language. It is interpreted and dynamically typed and is very suited for interactive work and quick prototyping, while being powerful enough to write large applications in.\n",
    "* NumPy, the fundamental package for numerical computation. It defines the numerical array and matrix types and basic operations on them.\n",
    "* The SciPy library, a collection of numerical algorithms and domain-specific toolboxes, including signal processing, optimization, statistics and much more.\n",
    "* Matplotlib, a mature and popular plotting package, that provides publication-quality 2D plotting as well as rudimentary 3D plotting\n",
    "* pandas, providing high-performance, easy to use data structures.\n",
    "* SymPy, for symbolic mathematics and computer algebra.\n",
    "* IPython, a rich interactive interface, letting you quickly process data and test ideas. The IPython notebook works in your web browser, allowing you to document your computation in an easily reproducible form.\n",
    "* nose, a framework for testing Python code."
   ]
  },
  {
   "cell_type": "markdown",
   "metadata": {},
   "source": [
    "## Applications\n",
    "\n",
    "#### Spatial Data Analytics: \n",
    "KD-Trees, R*-Trees and related algorithms (Range, NN …). How could you dynamically store the locations of billions of devices so that you know very fast who is closest to whom?\n",
    "#### Bioinformatics: \n",
    "Fundamental algorithms for analyzing DNA and protein sequences and microarray RNA expression data. Personalized medicine aims to tailor treatments to individuals. The amount of data is staggering. Pharma companies today employ multidisciplinary teams of biologists and data analysts to find patterns in this data.\n",
    "#### Event driven programming: \n",
    "How to build an interactive program with a graphical user interface (mobile).\n",
    "#### Google App Engine: \n",
    "How to use it to build a web based application\n",
    "#### Image Analytics: \n",
    "Take a picture of a movie poster with a mobile, can the computer tell what movie it is.\n",
    "#### Particle Filters: \n",
    "Particle filters are a technique that can be used to predict the state of a system given some training observations without explicitly modeling the system.\n",
    "#### Bayesian Networks: \n",
    "Statistical modeling and inference in domains consisting of a very large number of variables. They provide intuitive visualizations and the ability to perform what-if scenarios. \n",
    "#### Genetic Algorithms \n",
    "#### Classifier/regression implementation \n",
    "#### Cryptography: \n",
    "Encryption/decryption. Public/private key.\n"
   ]
  },
  {
   "cell_type": "markdown",
   "metadata": {},
   "source": [
    "## IDE\n",
    "#### Many ways to run python in class\n",
    "    * python MyFirst.py\n",
    "    * ipython - USER IT AS CALCULATOR\n",
    "    * ipython notebook\n",
    "    * Spyder\n",
    "    * Online\n",
    "    * Others (Eclipse + PyDev, Visual Studio, ......\n",
    "\n",
    "* Online: https://www.pythonanywhere.com/try-ipython/\n"
   ]
  },
  {
   "cell_type": "markdown",
   "metadata": {},
   "source": [
    "#### Programming Framework\n",
    "    * Built-in functions\n",
    "    * Core modules\n",
    "    * External modules\n",
    "    \n",
    "#### Navigation\n",
    "\n",
    "* Documentation: https://docs.python.org/3/\n",
    "* Tutorials: http://www.tutorialspoint.com/python/python_variable_types.htm\n",
    "* Built-in functions: https://docs.python.org/3/library/functions.html\n",
    "* Python Module Index: https://docs.python.org/3/py-modindex.html\n",
    "* PyPI - the Python Package Index: https://pypi.python.org/pypi\n"
   ]
  },
  {
   "cell_type": "code",
   "execution_count": 1,
   "metadata": {
    "collapsed": false
   },
   "outputs": [
    {
     "name": "stdout",
     "output_type": "stream",
     "text": [
      "Help on built-in function abs in module builtins:\n",
      "\n",
      "abs(x, /)\n",
      "    Return the absolute value of the argument.\n",
      "\n"
     ]
    }
   ],
   "source": [
    "help(abs)"
   ]
  },
  {
   "cell_type": "code",
   "execution_count": 1,
   "metadata": {
    "collapsed": false
   },
   "outputs": [
    {
     "data": {
      "text/plain": [
       "['__doc__',\n",
       " '__loader__',\n",
       " '__name__',\n",
       " '__package__',\n",
       " '__spec__',\n",
       " 'acos',\n",
       " 'acosh',\n",
       " 'asin',\n",
       " 'asinh',\n",
       " 'atan',\n",
       " 'atan2',\n",
       " 'atanh',\n",
       " 'ceil',\n",
       " 'copysign',\n",
       " 'cos',\n",
       " 'cosh',\n",
       " 'degrees',\n",
       " 'e',\n",
       " 'erf',\n",
       " 'erfc',\n",
       " 'exp',\n",
       " 'expm1',\n",
       " 'fabs',\n",
       " 'factorial',\n",
       " 'floor',\n",
       " 'fmod',\n",
       " 'frexp',\n",
       " 'fsum',\n",
       " 'gamma',\n",
       " 'gcd',\n",
       " 'hypot',\n",
       " 'inf',\n",
       " 'isclose',\n",
       " 'isfinite',\n",
       " 'isinf',\n",
       " 'isnan',\n",
       " 'ldexp',\n",
       " 'lgamma',\n",
       " 'log',\n",
       " 'log10',\n",
       " 'log1p',\n",
       " 'log2',\n",
       " 'modf',\n",
       " 'nan',\n",
       " 'pi',\n",
       " 'pow',\n",
       " 'radians',\n",
       " 'sin',\n",
       " 'sinh',\n",
       " 'sqrt',\n",
       " 'tan',\n",
       " 'tanh',\n",
       " 'trunc']"
      ]
     },
     "execution_count": 1,
     "metadata": {},
     "output_type": "execute_result"
    }
   ],
   "source": [
    "import math\n",
    "dir(math)"
   ]
  }
 ],
 "metadata": {
  "kernelspec": {
   "display_name": "Python 3",
   "language": "python",
   "name": "python3"
  },
  "language_info": {
   "codemirror_mode": {
    "name": "ipython",
    "version": 3
   },
   "file_extension": ".py",
   "mimetype": "text/x-python",
   "name": "python",
   "nbconvert_exporter": "python",
   "pygments_lexer": "ipython3",
   "version": "3.5.1"
  }
 },
 "nbformat": 4,
 "nbformat_minor": 0
}
