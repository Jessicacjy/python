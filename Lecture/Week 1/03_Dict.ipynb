{
 "cells": [
  {
   "cell_type": "markdown",
   "metadata": {},
   "source": [
    "\n",
    "# Dictionary - mutable\n",
    "\n",
    "https://docs.python.org/3/library/stdtypes.html#mapping-types-dict\n"
   ]
  },
  {
   "cell_type": "markdown",
   "metadata": {},
   "source": [
    "### Accessing Values in Dictionary"
   ]
  },
  {
   "cell_type": "code",
   "execution_count": 1,
   "metadata": {
    "collapsed": false
   },
   "outputs": [
    {
     "name": "stdout",
     "output_type": "stream",
     "text": [
      "dict['Name']:  Zara\n",
      "dict['Age']:  7\n"
     ]
    }
   ],
   "source": [
    "dict = {'Name': 'Zara', 'Age': 7, 'Class': 'First'};\n",
    "\n",
    "print(\"dict['Name']: \", dict['Name'])\n",
    "print (\"dict['Age']: \", dict['Age'])"
   ]
  },
  {
   "cell_type": "code",
   "execution_count": 2,
   "metadata": {
    "collapsed": false
   },
   "outputs": [
    {
     "name": "stdout",
     "output_type": "stream",
     "text": [
      "dict['Alice']:  7\n"
     ]
    }
   ],
   "source": [
    "dict = {'Name': 'Zara', 'Age': 7, 'Class': 'First'};\n",
    "print (\"dict['Alice']: \", dict['Age'])"
   ]
  },
  {
   "cell_type": "markdown",
   "metadata": {},
   "source": [
    "### Updating Dictionary"
   ]
  },
  {
   "cell_type": "code",
   "execution_count": 3,
   "metadata": {
    "collapsed": false
   },
   "outputs": [
    {
     "name": "stdout",
     "output_type": "stream",
     "text": [
      "dict['Age']:  8\n",
      "dict['School']:  DPS School\n"
     ]
    }
   ],
   "source": [
    "dict = {'Name': 'Zara', 'Age': 7, 'Class': 'First'};\n",
    "\n",
    "dict['Age'] = 8; # update existing entry\n",
    "dict['School'] = \"DPS School\"; # Add new entry\n",
    "\n",
    "\n",
    "print(\"dict['Age']: \", dict['Age'])\n",
    "print( \"dict['School']: \", dict['School'])"
   ]
  },
  {
   "cell_type": "markdown",
   "metadata": {},
   "source": [
    "### Delete Dictionary Elements"
   ]
  },
  {
   "cell_type": "code",
   "execution_count": 6,
   "metadata": {
    "collapsed": false
   },
   "outputs": [
    {
     "data": {
      "text/plain": [
       "{'Age': 7, 'Class': 'First'}"
      ]
     },
     "execution_count": 6,
     "metadata": {},
     "output_type": "execute_result"
    }
   ],
   "source": [
    "dict = {'Name': 'Zara', 'Age': 7, 'Class': 'First'};\n",
    "\n",
    "del dict['Name']; # remove entry with key 'Name'\n",
    "#dict.clear();     # remove all entries in dict\n",
    "#del dict ;        # delete entire dictionary\n",
    "dict\n"
   ]
  },
  {
   "cell_type": "markdown",
   "metadata": {},
   "source": [
    "##### Properties of Dictionary Keys\n",
    "More than one entry per key not allowed. Which means no duplicate key is allowed. When duplicate keys encountered during assignment, the last assignment wins. "
   ]
  },
  {
   "cell_type": "code",
   "execution_count": 7,
   "metadata": {
    "collapsed": false
   },
   "outputs": [
    {
     "data": {
      "text/plain": [
       "{'Age': 7, 'Name': 'Manni'}"
      ]
     },
     "execution_count": 7,
     "metadata": {},
     "output_type": "execute_result"
    }
   ],
   "source": [
    "dict = {'Name': 'Zara', 'Age': 7, 'Name': 'Manni'};\n",
    "\n",
    "dict"
   ]
  },
  {
   "cell_type": "markdown",
   "metadata": {},
   "source": [
    "##### Properties of Dictionary Keys\n",
    "Keys must be immutable. Which means you can use strings, numbers or tuples as dictionary keys but \n",
    "something like ['key'] is not allowed."
   ]
  },
  {
   "cell_type": "code",
   "execution_count": 9,
   "metadata": {
    "collapsed": true
   },
   "outputs": [
    {
     "ename": "TypeError",
     "evalue": "unhashable type: 'list'",
     "output_type": "error",
     "traceback": [
      "\u001b[1;31m---------------------------------------------------------------------------\u001b[0m",
      "\u001b[1;31mTypeError\u001b[0m                                 Traceback (most recent call last)",
      "\u001b[1;32m<ipython-input-9-2436cae6222a>\u001b[0m in \u001b[0;36m<module>\u001b[1;34m()\u001b[0m\n\u001b[1;32m----> 1\u001b[1;33m \u001b[0mdict\u001b[0m \u001b[1;33m=\u001b[0m \u001b[1;33m{\u001b[0m\u001b[1;33m[\u001b[0m\u001b[1;34m'Name'\u001b[0m\u001b[1;33m]\u001b[0m\u001b[1;33m:\u001b[0m \u001b[1;34m'Zara'\u001b[0m\u001b[1;33m,\u001b[0m \u001b[1;34m'Age'\u001b[0m\u001b[1;33m:\u001b[0m \u001b[1;36m7\u001b[0m\u001b[1;33m}\u001b[0m\u001b[1;33m;\u001b[0m\u001b[1;33m\u001b[0m\u001b[0m\n\u001b[0m\u001b[0;32m      2\u001b[0m \u001b[1;33m\u001b[0m\u001b[0m\n\u001b[0;32m      3\u001b[0m \u001b[1;31m#print \"dict['Name']: \", dict['Name']\u001b[0m\u001b[1;33m\u001b[0m\u001b[1;33m\u001b[0m\u001b[0m\n",
      "\u001b[1;31mTypeError\u001b[0m: unhashable type: 'list'"
     ]
    }
   ],
   "source": [
    "dict = {['Name']: 'Zara', 'Age': 7};"
   ]
  },
  {
   "cell_type": "markdown",
   "metadata": {},
   "source": [
    "###  Built-In Functions:\n",
    "cmp(dict1, dict2)\n",
    "\n",
    "len(dict)\n",
    "\n",
    "str(dict)"
   ]
  },
  {
   "cell_type": "markdown",
   "metadata": {},
   "source": [
    "### dict class methods\n",
    "dict.clear()\n",
    "\n",
    "dict.copy()\n",
    "\n",
    "dict.get(key, default=None)\n",
    "\n",
    "dict.has_key(key)\n",
    "\n",
    "dict.items()\n",
    "\n",
    "dict.keys()\n",
    "\n",
    "dict.values()"
   ]
  },
  {
   "cell_type": "code",
   "execution_count": 11,
   "metadata": {
    "collapsed": false
   },
   "outputs": [
    {
     "data": {
      "text/plain": [
       "dict_values([7, 'Zara', 'First'])"
      ]
     },
     "execution_count": 11,
     "metadata": {},
     "output_type": "execute_result"
    }
   ],
   "source": [
    "dict = {'Name': 'Zara', 'Age': 7, 'Class': 'First'}\n",
    "dict.values()"
   ]
  },
  {
   "cell_type": "code",
   "execution_count": 12,
   "metadata": {
    "collapsed": false
   },
   "outputs": [
    {
     "name": "stdout",
     "output_type": "stream",
     "text": [
      "Age 7\n",
      "Name Zara\n",
      "Class First\n"
     ]
    }
   ],
   "source": [
    "for k,v in dict.items():\n",
    "    print(k,v)"
   ]
  }
 ],
 "metadata": {
  "kernelspec": {
   "display_name": "Python 3",
   "language": "python",
   "name": "python3"
  },
  "language_info": {
   "codemirror_mode": {
    "name": "ipython",
    "version": 3
   },
   "file_extension": ".py",
   "mimetype": "text/x-python",
   "name": "python",
   "nbconvert_exporter": "python",
   "pygments_lexer": "ipython3",
   "version": "3.5.1"
  }
 },
 "nbformat": 4,
 "nbformat_minor": 0
}
