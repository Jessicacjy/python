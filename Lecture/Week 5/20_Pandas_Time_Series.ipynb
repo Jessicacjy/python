{
 "cells": [
  {
   "cell_type": "markdown",
   "metadata": {},
   "source": [
    "# Time Series\n",
    "\n",
    "* Anything that is observed or measured at many points in time forms a **time series**. \n",
    "    * Timestamps, specific instants in time\n",
    "    * Fixed periods, such as the month January 2007 or the full year 2010\n",
    "    * Intervals/Period of time, indicated by a start and end timestamp.\n",
    "    * Experiment or elapsed time; each timestamp is a measure of time relative to a particular start time. (i.e. the diameter of a cookie baking each second since being placed in the oven.\n",
    "    \n",
    "### pandas provides a standard set of time series tools and data algorithms. \n",
    "* With this, you can:\n",
    "    * efficiently work with very large time series \n",
    "    * and easily slice and dice, aggregate, and resample irregular and fixed frequency time series.\n",
    "    \n",
    "### TimeSeries is a subclass of Series and thus behaves in the same way with regard to indexing and selecting data based on label."
   ]
  },
  {
   "cell_type": "code",
   "execution_count": null,
   "metadata": {
    "collapsed": false
   },
   "outputs": [],
   "source": [
    "%matplotlib inline\n",
    " \n",
    "import numpy as np  \n",
    "import pandas as pd  \n",
    "import matplotlib.pyplot as plt  \n"
   ]
  },
  {
   "cell_type": "markdown",
   "metadata": {
    "collapsed": true
   },
   "source": [
    "# Stocks Data\n",
    "\n",
    "https://finance.yahoo.com/quote/%5EGSPC/history?period1=1454208623&period2=1485831023&interval=1d&filter=history&frequency=1d"
   ]
  },
  {
   "cell_type": "code",
   "execution_count": null,
   "metadata": {
    "collapsed": false,
    "scrolled": true
   },
   "outputs": [],
   "source": [
    "path = r'.\\data\\table.csv'  \n",
    "stock_data = pd.read_csv(path)  \n",
    "stock_data.head(1)"
   ]
  },
  {
   "cell_type": "code",
   "execution_count": null,
   "metadata": {
    "collapsed": false
   },
   "outputs": [],
   "source": [
    "print('Max: ',stock_data.Date.max())\n",
    "print('Min: ',stock_data.Date.min())"
   ]
  },
  {
   "cell_type": "code",
   "execution_count": null,
   "metadata": {
    "collapsed": false
   },
   "outputs": [],
   "source": [
    "idx = pd.date_range(stock_data.Date.min(), stock_data.Date.max(), freq='D')\n",
    "idx"
   ]
  },
  {
   "cell_type": "code",
   "execution_count": null,
   "metadata": {
    "collapsed": false
   },
   "outputs": [],
   "source": [
    "stock_data.set_index('Date',drop=True,inplace=True)\n",
    "stock_data.head(5)"
   ]
  },
  {
   "cell_type": "code",
   "execution_count": null,
   "metadata": {
    "collapsed": false
   },
   "outputs": [],
   "source": [
    "stock_data.index = pd.DatetimeIndex(stock_data.index)\n",
    "stock_data.head(1)"
   ]
  },
  {
   "cell_type": "code",
   "execution_count": null,
   "metadata": {
    "collapsed": false
   },
   "outputs": [],
   "source": [
    "stock_data = stock_data.reindex(idx) \n",
    "stock_data"
   ]
  },
  {
   "cell_type": "code",
   "execution_count": null,
   "metadata": {
    "collapsed": false
   },
   "outputs": [],
   "source": [
    "stock_data = stock_data.fillna(method='pad')\n",
    "stock_data"
   ]
  },
  {
   "cell_type": "code",
   "execution_count": null,
   "metadata": {
    "collapsed": false
   },
   "outputs": [],
   "source": [
    "stock_data = stock_data[['Open','Close']]"
   ]
  },
  {
   "cell_type": "code",
   "execution_count": null,
   "metadata": {
    "collapsed": false
   },
   "outputs": [],
   "source": [
    "stock_data.plot(figsize=(12, 6))"
   ]
  },
  {
   "cell_type": "code",
   "execution_count": null,
   "metadata": {
    "collapsed": false
   },
   "outputs": [],
   "source": [
    "stock_data['2016':'2017'].plot(figsize=(12, 6))"
   ]
  },
  {
   "cell_type": "code",
   "execution_count": null,
   "metadata": {
    "collapsed": false
   },
   "outputs": [],
   "source": [
    "stock_data['2016-4':'2016-9'].plot(figsize=(12, 6))"
   ]
  },
  {
   "cell_type": "code",
   "execution_count": null,
   "metadata": {
    "collapsed": false
   },
   "outputs": [],
   "source": [
    "stock_data['Diff'] = stock_data['Close'] - stock_data['Open']\n",
    "stock_data.head()"
   ]
  },
  {
   "cell_type": "code",
   "execution_count": null,
   "metadata": {
    "collapsed": false
   },
   "outputs": [],
   "source": [
    "stock_data['2016-4':'2016-9'].Diff.plot(figsize=(12, 6))"
   ]
  },
  {
   "cell_type": "code",
   "execution_count": null,
   "metadata": {
    "collapsed": false
   },
   "outputs": [],
   "source": [
    "import datetime\n",
    "stock_data.ix[(stock_data.Open > 1000) & (stock_data.Close < 20000) \n",
    "        & (stock_data.index > datetime.datetime(2010,2,1)) \n",
    "        & (stock_data.index < datetime.datetime(2017,3,1))].plot(kind='barh',figsize=(12, 6))"
   ]
  },
  {
   "cell_type": "code",
   "execution_count": null,
   "metadata": {
    "collapsed": false
   },
   "outputs": [],
   "source": [
    "stock_data.max()"
   ]
  },
  {
   "cell_type": "code",
   "execution_count": null,
   "metadata": {
    "collapsed": false
   },
   "outputs": [],
   "source": [
    "stock_data.mean()"
   ]
  },
  {
   "cell_type": "code",
   "execution_count": null,
   "metadata": {
    "collapsed": false
   },
   "outputs": [],
   "source": [
    "stock_data.min()"
   ]
  },
  {
   "cell_type": "code",
   "execution_count": null,
   "metadata": {
    "collapsed": false
   },
   "outputs": [],
   "source": [
    "AO_mm = stock_data.resample(\"A\")  #A Q D M\n",
    "AO_mm.plot(style='g--',figsize=(12, 6))"
   ]
  },
  {
   "cell_type": "code",
   "execution_count": null,
   "metadata": {
    "collapsed": true
   },
   "outputs": [],
   "source": [
    "stock_data_Open = stock_data['Open']"
   ]
  },
  {
   "cell_type": "code",
   "execution_count": null,
   "metadata": {
    "collapsed": false
   },
   "outputs": [],
   "source": [
    "\n",
    "AO_mm = stock_data_Open.resample(\"M\", how=['mean', np.min, np.max])\n",
    "AO_mm['2016':'2017'].plot(subplots=True)\n",
    "AO_mm['2016':'2017'].plot(figsize=(12, 6))"
   ]
  },
  {
   "cell_type": "code",
   "execution_count": null,
   "metadata": {
    "collapsed": false
   },
   "outputs": [],
   "source": [
    "stock_data.corr()"
   ]
  },
  {
   "cell_type": "code",
   "execution_count": null,
   "metadata": {
    "collapsed": false
   },
   "outputs": [],
   "source": [
    "stock_data['First Difference'] = stock_data['Close'] - stock_data['Close'].shift()  \n",
    "stock_data['First Difference'].plot(figsize=(16, 12))"
   ]
  }
 ],
 "metadata": {
  "kernelspec": {
   "display_name": "Python 3",
   "language": "python",
   "name": "python3"
  },
  "language_info": {
   "codemirror_mode": {
    "name": "ipython",
    "version": 3
   },
   "file_extension": ".py",
   "mimetype": "text/x-python",
   "name": "python",
   "nbconvert_exporter": "python",
   "pygments_lexer": "ipython3",
   "version": "3.5.3"
  }
 },
 "nbformat": 4,
 "nbformat_minor": 0
}
