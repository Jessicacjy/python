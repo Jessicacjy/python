{
 "cells": [
  {
   "cell_type": "markdown",
   "metadata": {},
   "source": [
    "## Geometric Manipulations\n",
    "\n",
    "##### geopandas makes available all the tools for geometric manipulations in the *shapely* library.\n",
    "\n",
    "\n",
    "* **Constructive Methods**\n",
    "\n",
    "    * **GeoSeries.buffer(distance, resolution=16)**: \n",
    "    Returns a GeoSeries of geometries representing all points within a given distance of each geometric object.\n",
    "\n",
    "    * **GeoSeries.boundary**\n",
    "    Returns a GeoSeries of lower dimensional objects representing each geometries’s set-theoretic boundary.\n",
    "\n",
    "    * **GeoSeries.centroid**\n",
    "    Returns a GeoSeries of points for each geometric centroid.\n",
    "\n",
    "    * **GeoSeries.convex_hull**\n",
    "    Returns a GeoSeries of geometries representing the smallest convex Polygon containing all the points in each object unless the number of points in the object is less than three. For two points, the convex hull collapses to a LineString; for 1, a Point.\n",
    "    * **GeoSeries.envelope**\n",
    "    Returns a GeoSeries of geometries representing the point or smallest rectangular polygon (with sides parallel to the coordinate axes) that contains each object.\n",
    "\n",
    "    GeoSeries.simplify(tolerance, preserve_topology=True)\n",
    "    Returns a GeoSeries containing a simplified representation of each object.\n",
    "\n",
    "    * **GeoSeries.unary_union**\n",
    "    Return a geometry containing the union of all geometries in the GeoSeries.\n",
    "\n",
    "\n",
    "\n",
    "\n",
    "* **Affine transformations**\n",
    "\n",
    "    * **GeoSeries.rotate(self, angle, origin='center', use_radians=False)**\n",
    "    Rotate the coordinates of the GeoSeries.\n",
    "\n",
    "    * **GeoSeries.scale(self, xfact=1.0, yfact=1.0, zfact=1.0, origin='center')**\n",
    "    Scale the geometries of the GeoSeries along each (x, y, z) dimensio.\n",
    "\n",
    "    * **GeoSeries.skew(self, angle, origin='center', use_radians=False)**\n",
    "    Shear/Skew the geometries of the GeoSeries by angles along x and y dimensions.\n",
    "\n",
    "    * **GeoSeries.translate(self, angle, origin='center', use_radians=False)**\n",
    "    Shift the coordinates of the GeoSeries."
   ]
  },
  {
   "cell_type": "markdown",
   "metadata": {},
   "source": [
    "## Example\n",
    "\n",
    "### **Data:** http://www1.nyc.gov/site/planning/data-maps/open-data/districts-download-metadata.page"
   ]
  },
  {
   "cell_type": "code",
   "execution_count": null,
   "metadata": {
    "collapsed": false
   },
   "outputs": [],
   "source": [
    "import geopandas as gpd\n",
    "import numpy as np\n",
    "%matplotlib inline"
   ]
  },
  {
   "cell_type": "code",
   "execution_count": null,
   "metadata": {
    "collapsed": false,
    "scrolled": true
   },
   "outputs": [],
   "source": [
    "boros = gpd.GeoDataFrame.from_file(r'.\\DATA\\nybb.shp')\n",
    "boros.set_index('BoroCode', inplace=True)\n",
    "boros.sort()\n",
    "boros"
   ]
  },
  {
   "cell_type": "code",
   "execution_count": null,
   "metadata": {
    "collapsed": false
   },
   "outputs": [],
   "source": [
    "boros.plot(figsize=(12, 6))"
   ]
  },
  {
   "cell_type": "code",
   "execution_count": null,
   "metadata": {
    "collapsed": false
   },
   "outputs": [],
   "source": [
    "boros['geometry'].convex_hull.plot(figsize=(12, 6))\n"
   ]
  },
  {
   "cell_type": "code",
   "execution_count": null,
   "metadata": {
    "collapsed": false
   },
   "outputs": [],
   "source": [
    "#generate a GeoSeries containing 200 random points:\n",
    "\n",
    "from shapely.geometry import Point\n",
    "xmin, xmax, ymin, ymax = 900000, 1080000, 120000, 280000\n",
    "xc = (xmax - xmin) * np.random.random(200) + xmin\n",
    "yc = (ymax - ymin) * np.random.random(200) + ymin\n",
    "pts = gpd.GeoSeries([Point(x, y) for x, y in zip(xc, yc)])\n",
    "pts"
   ]
  },
  {
   "cell_type": "code",
   "execution_count": null,
   "metadata": {
    "collapsed": false
   },
   "outputs": [],
   "source": [
    "#Now draw a circle with fixed radius around each point:\n",
    "\n",
    "circles = pts.buffer(4000)\n",
    "\n",
    "circles.plot(figsize=(12, 6))"
   ]
  },
  {
   "cell_type": "code",
   "execution_count": null,
   "metadata": {
    "collapsed": false,
    "scrolled": true
   },
   "outputs": [],
   "source": [
    "#We can collapse these circles into a single shapely MultiPolygon geometry with\n",
    "\n",
    "mp = circles.unary_union\n",
    "mp"
   ]
  },
  {
   "cell_type": "code",
   "execution_count": null,
   "metadata": {
    "collapsed": false
   },
   "outputs": [],
   "source": [
    "#To extract the part of this geometry contained in each borough, we can just use:\n",
    "\n",
    "holes = boros['geometry'].intersection(mp)\n",
    "holes.plot(figsize=(12, 6))"
   ]
  },
  {
   "cell_type": "markdown",
   "metadata": {},
   "source": [
    "## Overlay Set Operations\n",
    "\n",
    "![alt text](Picture1.png \"Title\")\n",
    "\n",
    "## Overlay Countries Example\n",
    "First, we load the countries and cities example datasets and select :"
   ]
  },
  {
   "cell_type": "code",
   "execution_count": null,
   "metadata": {
    "collapsed": false
   },
   "outputs": [],
   "source": [
    "world = gpd.read_file(gpd.datasets.get_path('naturalearth_lowres'))\n",
    "\n",
    "capitals = gpd.read_file(gpd.datasets.get_path('naturalearth_cities'))\n",
    "\n",
    "# Select South Amarica and some columns\n",
    "countries = world[world['continent'] == \"South America\"]\n",
    "\n",
    "countries = countries[['geometry', 'name']]\n",
    "\n",
    "# Project to crs that uses meters as distance measure\n",
    "countries = countries.to_crs('+init=epsg:3395')\n",
    "\n",
    "capitals = capitals.to_crs('+init=epsg:3395')\n",
    "# To illustrate the overlay function, consider the following case in which one \n",
    "# wishes to identify the “core” portion of each country – defined as areas within 500km of a \n",
    "# capital – using a GeoDataFrame of countries and a GeoDataFrame of capitals.\n",
    "\n",
    "# Look at countries:\n",
    "countries.plot(figsize=(12, 6));"
   ]
  },
  {
   "cell_type": "code",
   "execution_count": null,
   "metadata": {
    "collapsed": false
   },
   "outputs": [],
   "source": [
    "# Now buffer cities to find area within 500km.\n",
    "# Check CRS -- World Mercator, units of meters.\n",
    "capitals.crs\n"
   ]
  },
  {
   "cell_type": "code",
   "execution_count": null,
   "metadata": {
    "collapsed": false
   },
   "outputs": [],
   "source": [
    "# make 500km buffer\n",
    "capitals['geometry']= capitals.buffer(500000)\n",
    "\n",
    "capitals.plot(figsize=(12, 6))"
   ]
  },
  {
   "cell_type": "markdown",
   "metadata": {},
   "source": [
    "### To select only the portion of countries within 500km of a capital, we specify the how option to be “intersect”, which creates a new set of polygons where these two layers overlap:"
   ]
  },
  {
   "cell_type": "code",
   "execution_count": null,
   "metadata": {
    "collapsed": true
   },
   "outputs": [],
   "source": [
    "country_cores = gpd.overlay(countries, capitals, how='intersection')"
   ]
  },
  {
   "cell_type": "code",
   "execution_count": null,
   "metadata": {
    "collapsed": true
   },
   "outputs": [],
   "source": [
    "country_cores"
   ]
  },
  {
   "cell_type": "code",
   "execution_count": null,
   "metadata": {
    "collapsed": false
   },
   "outputs": [],
   "source": [
    " country_cores.plot(figsize=(12, 6))"
   ]
  },
  {
   "cell_type": "markdown",
   "metadata": {},
   "source": [
    "#### Changing the “how” option allows for different types of overlay operations. \n",
    "For example, if we were interested in the portions of countries far from capitals (the peripheries), we would compute the difference of the two.\n"
   ]
  },
  {
   "cell_type": "code",
   "execution_count": null,
   "metadata": {
    "collapsed": true
   },
   "outputs": [],
   "source": [
    "\n",
    "country_peripheries = gpd.overlay(countries, capitals, how='difference')"
   ]
  },
  {
   "cell_type": "code",
   "execution_count": null,
   "metadata": {
    "collapsed": false
   },
   "outputs": [],
   "source": [
    "country_peripheries.plot(figsize=(12, 6))"
   ]
  },
  {
   "cell_type": "markdown",
   "metadata": {},
   "source": [
    "# Aggregation with dissolve"
   ]
  },
  {
   "cell_type": "code",
   "execution_count": null,
   "metadata": {
    "collapsed": false
   },
   "outputs": [],
   "source": [
    "world = gpd.read_file(gpd.datasets.get_path('naturalearth_lowres'))\n",
    "\n",
    "world = world[['continent', 'geometry']]\n",
    "\n",
    "continents = world.dissolve(by='continent')\n",
    "\n",
    "continents.plot(figsize=(12, 6))\n",
    "\n",
    "continents.head()"
   ]
  },
  {
   "cell_type": "markdown",
   "metadata": {},
   "source": [
    "If we are interested in aggregate populations, however, we can pass different functions to the dissolve method to aggregate populations:\n",
    "\n"
   ]
  },
  {
   "cell_type": "code",
   "execution_count": null,
   "metadata": {
    "collapsed": false
   },
   "outputs": [],
   "source": [
    "import PySAL\n",
    "world = gpd.read_file(gpd.datasets.get_path('naturalearth_lowres'))\n",
    "\n",
    "world = world[['continent', 'geometry', 'pop_est']]\n",
    "\n",
    "continents = world.dissolve(by='continent', aggfunc='sum')\n",
    "\n",
    "continents.plot(column = 'pop_est', scheme='quantiles', cmap='YlOrRd');\n",
    "\n",
    "continents.sort_values(by='pop_est').head(10)"
   ]
  },
  {
   "cell_type": "markdown",
   "metadata": {},
   "source": [
    "## Merging Data\n",
    "\n",
    "There are two ways to combine datasets in geopandas – attribute joins and spatial joins.\n",
    "\n",
    "In an attribute join, a GeoSeries or GeoDataFrame is combined with a regular pandas Series or DataFrame based on a common variable. This is analogous to normal merging or joining in pandas.\n",
    "\n",
    "In a Spatial Join, observations from to GeoSeries or GeoDataFrames are combined based on their spatial relationship to one another.\n",
    "\n"
   ]
  },
  {
   "cell_type": "code",
   "execution_count": null,
   "metadata": {
    "collapsed": true
   },
   "outputs": [],
   "source": [
    "#In the following examples, we use these datasets:\n",
    "\n",
    "world = gpd.read_file(gpd.datasets.get_path('naturalearth_lowres'))\n",
    "\n",
    "cities = gpd.read_file(gpd.datasets.get_path('naturalearth_cities'))\n",
    "\n",
    "# For attribute join\n",
    "country_shapes = world[['geometry', 'iso_a3']]\n",
    "\n",
    "country_names = world[['name', 'iso_a3']]\n"
   ]
  },
  {
   "cell_type": "code",
   "execution_count": null,
   "metadata": {
    "collapsed": false
   },
   "outputs": [],
   "source": [
    "# Attribute Joins\n",
    "\n",
    "country_shapes.head()"
   ]
  },
  {
   "cell_type": "code",
   "execution_count": null,
   "metadata": {
    "collapsed": false
   },
   "outputs": [],
   "source": [
    "country_names.head()\n"
   ]
  },
  {
   "cell_type": "code",
   "execution_count": null,
   "metadata": {
    "collapsed": false
   },
   "outputs": [],
   "source": [
    "country_shapes = country_shapes.merge(country_names, on='iso_a3')\n",
    "country_shapes.head()"
   ]
  },
  {
   "cell_type": "code",
   "execution_count": null,
   "metadata": {
    "collapsed": false
   },
   "outputs": [],
   "source": [
    "#Spatial Joins\n",
    "#In a Spatial Join, two geometry objects are merged based on their spatial relationship to one another.\n",
    "\n",
    "\n",
    "# For spatial join\n",
    "countries = world[['geometry', 'name']]\n",
    "\n",
    "countries = countries.rename(columns={'name':'country'})\n",
    "\n",
    "# One GeoDataFrame of countries, one of Cities.\n",
    "# Want to merge so we can get each city's country.\n",
    "countries.head()\n"
   ]
  },
  {
   "cell_type": "code",
   "execution_count": null,
   "metadata": {
    "collapsed": false
   },
   "outputs": [],
   "source": [
    "cities.head()\n"
   ]
  },
  {
   "cell_type": "code",
   "execution_count": null,
   "metadata": {
    "collapsed": false
   },
   "outputs": [],
   "source": [
    "cities_with_country = gpd.sjoin(cities, countries, how=\"inner\", op='intersects')\n",
    "\n",
    "cities_with_country.head()"
   ]
  }
 ],
 "metadata": {
  "kernelspec": {
   "display_name": "Python 3",
   "language": "python",
   "name": "python3"
  },
  "language_info": {
   "codemirror_mode": {
    "name": "ipython",
    "version": 3
   },
   "file_extension": ".py",
   "mimetype": "text/x-python",
   "name": "python",
   "nbconvert_exporter": "python",
   "pygments_lexer": "ipython3",
   "version": "3.5.3"
  }
 },
 "nbformat": 4,
 "nbformat_minor": 0
}
