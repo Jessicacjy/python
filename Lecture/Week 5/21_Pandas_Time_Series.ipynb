{
 "cells": [
  {
   "cell_type": "markdown",
   "metadata": {},
   "source": [
    "## Pandas Time Series - Practice\n",
    "\n"
   ]
  },
  {
   "cell_type": "markdown",
   "metadata": {},
   "source": [
    "### Parking garage Dataset\n",
    "* The given data set (transations.csv) consists of more than three years of parking transaction data.\n",
    "* (from Jan 1, 2013 to Jan 31, 2016). \n",
    "\n",
    "* There are two columns: entry time and exit time. \n",
    "* Each row represents one transaction: For example: \n",
    "    * entry time, exit time \n",
    "    * 2015-01-01 01:32:25, 2015-01-01 03:02:52 \n",
    "    * 2015-01-01 01:58:11, 2015-01-01 06:39:03 \n",
    "    * ... \n",
    "\n",
    "### Requirements\n",
    "* Part1: Data cleaning.\n",
    "* Show a graph of #parking/month from jan1, 2013 to jan31 2016.\n",
    "* Show a graph of #parking /day from jan1 2016 to jan31 2016.\n",
    "* Show a graph of #parking/hour on jan1 2016."
   ]
  },
  {
   "cell_type": "code",
   "execution_count": null,
   "metadata": {
    "collapsed": true
   },
   "outputs": [],
   "source": [
    "import pandas as pd\n",
    "import matplotlib.pyplot as plt\n",
    "import numpy as np"
   ]
  },
  {
   "cell_type": "code",
   "execution_count": null,
   "metadata": {
    "collapsed": false
   },
   "outputs": [],
   "source": [
    "#================ cleaning ===========================\n",
    "# read in transaction data and parse dates\n",
    "data = pd.read_csv(r\"./DATA/transactions.csv\", parse_dates = ['entry_time','exit_time'])\n",
    "data.head()"
   ]
  },
  {
   "cell_type": "code",
   "execution_count": null,
   "metadata": {
    "collapsed": false
   },
   "outputs": [],
   "source": [
    "# replace all second value to be 0\n",
    "entry_list = data['entry_time']\n",
    "entry_list = [t.replace(second=0) for t in entry_list]\n",
    "entry_list"
   ]
  },
  {
   "cell_type": "code",
   "execution_count": null,
   "metadata": {
    "collapsed": false
   },
   "outputs": [],
   "source": [
    "exit_list = data['exit_time']\n",
    "exit_list = [t.replace(second=0) for t in exit_list]\n",
    "exit_list"
   ]
  },
  {
   "cell_type": "code",
   "execution_count": null,
   "metadata": {
    "collapsed": false
   },
   "outputs": [],
   "source": [
    "# entry_time/exit_time dataframe\n",
    "data = pd.DataFrame({'entry_time':entry_list, 'exit_time':exit_list})\n",
    "data.head()"
   ]
  },
  {
   "cell_type": "code",
   "execution_count": null,
   "metadata": {
    "collapsed": false
   },
   "outputs": [],
   "source": [
    "# remove data when it has entry time>exit time\n",
    "data[data.entry_time>data.exit_time]"
   ]
  },
  {
   "cell_type": "code",
   "execution_count": null,
   "metadata": {
    "collapsed": true
   },
   "outputs": [],
   "source": [
    "# remove data when it has entry time>exit time\n",
    "data = data[data.entry_time<data.exit_time]"
   ]
  },
  {
   "cell_type": "code",
   "execution_count": null,
   "metadata": {
    "collapsed": false
   },
   "outputs": [],
   "source": [
    "# entry/exit 1/-1 list\n",
    "data_entry = pd.DataFrame({'time' :data['entry_time'], 'N':[1] * len(data)})\n",
    "data_exit = pd.DataFrame({'time' :data['exit_time'], 'N':[-1]*len(data)})\n"
   ]
  },
  {
   "cell_type": "code",
   "execution_count": null,
   "metadata": {
    "collapsed": false
   },
   "outputs": [],
   "source": [
    "data_entry.head()"
   ]
  },
  {
   "cell_type": "code",
   "execution_count": null,
   "metadata": {
    "collapsed": false
   },
   "outputs": [],
   "source": [
    "data_exit.head()"
   ]
  },
  {
   "cell_type": "code",
   "execution_count": null,
   "metadata": {
    "collapsed": false
   },
   "outputs": [],
   "source": [
    "# merge entry and exit 1/-1 list and sort it\n",
    "data_merge = data_entry.append(data_exit)\n",
    "data_merge = data_merge.sort_values(by = 'time', ascending = True)\n",
    "data_merge"
   ]
  },
  {
   "cell_type": "code",
   "execution_count": null,
   "metadata": {
    "collapsed": false
   },
   "outputs": [],
   "source": [
    "# cumulative sum of the sorted dataframe\n",
    "data_merge['cumsum'] = np.cumsum(data_merge['N'])\n",
    "data_merge"
   ]
  },
  {
   "cell_type": "code",
   "execution_count": null,
   "metadata": {
    "collapsed": false
   },
   "outputs": [],
   "source": [
    "# reset index as time\n",
    "data_merge1 = pd.DataFrame({'cumsum':data_merge['cumsum'], 'time':data_merge['time']})\n",
    "data_merge2 = data_merge1.set_index('time')\n",
    "data_merge2"
   ]
  },
  {
   "cell_type": "code",
   "execution_count": null,
   "metadata": {
    "collapsed": false
   },
   "outputs": [],
   "source": [
    "# pick the last value if there're duplicate time\n",
    "data_merge3 = data_merge2[~data_merge2.index.duplicated(keep='last')]\n",
    "data_merge3"
   ]
  },
  {
   "cell_type": "code",
   "execution_count": null,
   "metadata": {
    "collapsed": false
   },
   "outputs": [],
   "source": [
    "# upsample the frame and fill in NA minutes with the previous existed value\n",
    "resample = data_merge3.resample('1T',fill_method = 'pad')\n",
    "resample"
   ]
  },
  {
   "cell_type": "code",
   "execution_count": null,
   "metadata": {
    "collapsed": false
   },
   "outputs": [],
   "source": [
    "# remove 14 records before 2013\n",
    "resample1 = resample['2013-01-01':'2016-01-31']\n",
    "resample1"
   ]
  },
  {
   "cell_type": "code",
   "execution_count": null,
   "metadata": {
    "collapsed": false
   },
   "outputs": [],
   "source": [
    "##================= visualization =============\n",
    "#Graph 1\n",
    "%matplotlib inline\n",
    "from pylab import rcParams\n",
    "rcParams['figure.figsize'] = 20, 10\n",
    "\n",
    "\n",
    "r1 = resample1['1/1/2013':'1/31/2016']\n",
    "r1=r1.resample('1M', how='mean')\n",
    "\n",
    "r1.plot(kind='bar',legend=None)\n",
    "plt.xlabel('Month',size=20)\n",
    "plt.ylabel('Number of Cars',size=20)\n",
    "plt.title('Average Density of Cars per Month',size=30)\n",
    "plt.xticks(rotation=70)\n",
    "\n"
   ]
  },
  {
   "cell_type": "code",
   "execution_count": null,
   "metadata": {
    "collapsed": false
   },
   "outputs": [],
   "source": [
    "#Graph 2\n",
    "r2 = resample1['1/1/2016':'1/31/2016']\n",
    "r2=r2.resample('1D', how='mean')\n",
    "r2.plot(kind='bar',legend=None)\n",
    "\n",
    "\n",
    "plt.xlabel('Day',size=20)\n",
    "plt.ylabel('Number of Cars',size=20)\n",
    "plt.title('Average Density of Cars per Day',size=30)\n",
    "plt.xticks(rotation=70)\n",
    "\n"
   ]
  },
  {
   "cell_type": "code",
   "execution_count": null,
   "metadata": {
    "collapsed": false
   },
   "outputs": [],
   "source": [
    "#Graph 3\n",
    "from pylab import rcParams\n",
    "#%matplotlib inline\n",
    "rcParams['figure.figsize'] = 20, 10\n",
    "r3 = resample1['1/1/2013']\n",
    "r3=r3.resample('1H', how='mean')\n",
    "r3.plot(kind='bar',legend=None)\n",
    "\n",
    "plt.xlabel('Hour of Day',size=20)\n",
    "plt.ylabel('Number of Cars', size=20)\n",
    "plt.title('Average Density of Cars per Hour',size=30)\n",
    "plt.xticks(rotation=70)\n",
    "\n"
   ]
  },
  {
   "cell_type": "markdown",
   "metadata": {},
   "source": [
    "## prediction\n",
    "\n",
    "* pip install holtwinters\n",
    "* https://grisha.org/blog/2016/01/29/triple-exponential-smoothing-forecasting/"
   ]
  },
  {
   "cell_type": "code",
   "execution_count": null,
   "metadata": {
    "collapsed": false
   },
   "outputs": [],
   "source": [
    "## ================= prediction =================\n",
    "#import pycast\n",
    "import holtwinters\n",
    "#import datetime\n",
    "#import matplotlib.dates as mdates\n",
    "# additive model prediction hourly, forecasting 696 hours\n",
    "r4 = resample1.resample('1H', how = 'mean')\n",
    "result = holtwinters.additive(x = r4['cumsum'].tolist(), m = 24, fc = 696)\n",
    "forecast = pd.DataFrame(result[0])\n",
    "print(forecast.plot(kind = 'bar'))"
   ]
  }
 ],
 "metadata": {
  "kernelspec": {
   "display_name": "Python 3",
   "language": "python",
   "name": "python3"
  },
  "language_info": {
   "codemirror_mode": {
    "name": "ipython",
    "version": 3
   },
   "file_extension": ".py",
   "mimetype": "text/x-python",
   "name": "python",
   "nbconvert_exporter": "python",
   "pygments_lexer": "ipython3",
   "version": "3.5.3"
  }
 },
 "nbformat": 4,
 "nbformat_minor": 0
}
