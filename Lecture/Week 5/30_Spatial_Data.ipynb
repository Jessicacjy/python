{
 "cells": [
  {
   "cell_type": "markdown",
   "metadata": {},
   "source": [
    "# What is Spatial Data?\n"
   ]
  },
  {
   "cell_type": "markdown",
   "metadata": {},
   "source": [
    "## Primary Data Types:\n",
    "    * vector: point, line, polygon\n",
    "    * raster: continuous (e.g. elevation) or\n",
    "    * discrete surfaces (e.g. land use)\n",
    "    \n",
    "## geometric objects - \n",
    "    * Points / Multi-Points\n",
    "    * Lines / Multi-Lines\n",
    "    * Polygons / Multi-Polygons\n",
    "    \n",
    "## Common Data Formats\n",
    "    * vector: shapefile, database geometry, tables (.dbf, .xlsx), KML, GeoJSON\n",
    "    * raster: ASCII, GeoTIFF, JPEG2000, MrSID, database BLOB, HDF5\n",
    "    \n",
    "## What is GIS?\n",
    "    * visualization\n",
    "    * Analysis\n"
   ]
  },
  {
   "cell_type": "code",
   "execution_count": null,
   "metadata": {
    "collapsed": true
   },
   "outputs": [],
   "source": []
  },
  {
   "cell_type": "markdown",
   "metadata": {},
   "source": [
    "# GIS in Python\n",
    "\n",
    "### Tools for using GIS in Python: \n",
    "    * Python scripts to control ArcGIS, a popular (but expensive) commercial platform\n",
    "    * Native python tools.\n",
    "\n",
    "### GeoPandas:\n",
    "    * Extends the Pandas library to also support spatial data. \n",
    "    * GeoPandas recently released version 0.2\n",
    "\n",
    "### GeoPandas bundles a lot of separate libraries:\n",
    "    * Fiona: Tools for importing and exporting vector data from various formats like shapefile.\n",
    "     \n",
    "        \n",
    "\n",
    "    * Rasterio: Tools for importing and exporting raster data from various formats\n",
    "    * PyProj: Tools for defining and transforming the datum and projections of spatial data\n",
    "    * Shapely: Tools for spatial analytics, like testing for intersections, measuring areas, etc. (2-dimensional cartesian shapes – it has no facilities for managing projections.\n",
    "        * The Shapely User Manual: \n",
    "        \n",
    "        http://toblerity.org/shapely/manual.html\n",
    "        \n",
    "    * RTree: Spatial analytics (like intersections) can be relatively computationally difficult and thus slow. \n",
    "    For example, if you want to do something like a spatial join of millions of points to a shapefile of polygons, \n",
    "    you want to use what’s called a “Spatial Index” tool like RTree. \n",
    "    * ArcPy: Controlling ArcGIS using Python – you need an ArcGIS license.\n",
    "\n",
    "### PySAL\n",
    "* a suite of spatial analytical methods: Spatial Weights, Spatial Autocorrelation, Spatial Econometrics, Spatial Smoothing, Regionalization, and Spatial Dynamics\n"
   ]
  },
  {
   "cell_type": "markdown",
   "metadata": {},
   "source": [
    "## GeoPandas \n",
    "\n",
    "### Data Structures:\n",
    "    * GeoSeries\n",
    "    * GeoDataFrame\n",
    "\n",
    "## GeoSeries\n",
    "    * A GeoSeries is essentially a vector where each entry in the vector is a set of shapes corresponding to one observation.\n",
    "    * An entry may consist of only one shape (like a single polygon) or multiple shapes (like the many polygons that make up the State of Hawaii or a country like Indonesia).\n",
    "    * Note that all entries in a GeoSeries need not be of the same geometric type.\n",
    "\n",
    "### Attributes and Methods\n",
    "    * implements nearly all of the attributes and methods of Shapely objects. \n",
    "    * When applied to a GeoSeries, they will apply elementwise to all geometries in the series. \n",
    "    * Binary operations can be applied between two GeoSeries, in which case the operation is carried out elementwise. \n",
    "        * The two series will be aligned by matching indices. \n",
    "    * Binary operations can also be applied to a single geometry, in which case the operation is carried out for each element of the series with that geometry. \n",
    "\n",
    "### Attributes\n",
    "    * area: shape area (units of projection)\n",
    "    * bounds: tuple of max and min coordinates on each axis for each shape\n",
    "    * total_bounds: tuple of max and min coordinates on each axis for entire GeoSeries\n",
    "    * geom_type: type of geometry.\n",
    "    * is_valid: tests if coordinates make a shape that is reasonable geometric shape.\n",
    "\n",
    "### Basic Methods\n",
    "    * distance(other): returns Series with minimum distance from each entry to other\n",
    "    * centroid: returns GeoSeries of centroids\n",
    "    * representative_point(): returns GeoSeries of points that are guaranteed to be within each geometry.\n",
    "    * to_crs(): change coordinate reference system.\n",
    "    * plot(): plot GeoSeries.\n",
    "\n",
    "### Relationship Tests\n",
    "    * geom_almost_equals(other): is shape almost the same as other (good when floating point precision\n",
    "issues make shapes slightly different)\n",
    "    * contains(other): is shape contained within other\n",
    "    * intersects(other): does shape intersect other"
   ]
  }
 ],
 "metadata": {
  "kernelspec": {
   "display_name": "Python 3",
   "language": "python",
   "name": "python3"
  },
  "language_info": {
   "codemirror_mode": {
    "name": "ipython",
    "version": 3
   },
   "file_extension": ".py",
   "mimetype": "text/x-python",
   "name": "python",
   "nbconvert_exporter": "python",
   "pygments_lexer": "ipython3",
   "version": "3.5.1"
  }
 },
 "nbformat": 4,
 "nbformat_minor": 0
}
