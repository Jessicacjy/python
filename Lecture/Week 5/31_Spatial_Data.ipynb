{
 "cells": [
  {
   "cell_type": "markdown",
   "metadata": {},
   "source": [
    "# GeoPanda Practice\n",
    "\n",
    "# docs: http://geopandas.org/index.html"
   ]
  },
  {
   "cell_type": "code",
   "execution_count": null,
   "metadata": {
    "collapsed": false
   },
   "outputs": [],
   "source": [
    "import geopandas as gpd\n",
    "%matplotlib inline"
   ]
  },
  {
   "cell_type": "markdown",
   "metadata": {},
   "source": [
    "## INSTALL\n",
    "    * pip install geopandas\n",
    "    * conda install -c conda-forge geopandas\n",
    "    \n",
    "    * pip install geopandas --------------- **FAILED**"
   ]
  },
  {
   "cell_type": "code",
   "execution_count": null,
   "metadata": {
    "collapsed": false,
    "scrolled": true
   },
   "outputs": [],
   "source": [
    "# Test Datasets\n",
    "gpd.datasets.available"
   ]
  },
  {
   "cell_type": "code",
   "execution_count": null,
   "metadata": {
    "collapsed": false
   },
   "outputs": [],
   "source": [
    "gpd.datasets.get_path('naturalearth_lowres')"
   ]
  },
  {
   "cell_type": "code",
   "execution_count": null,
   "metadata": {
    "collapsed": false
   },
   "outputs": [],
   "source": [
    "world = gpd.read_file(gpd.datasets.get_path('naturalearth_lowres'))"
   ]
  },
  {
   "cell_type": "code",
   "execution_count": null,
   "metadata": {
    "collapsed": false
   },
   "outputs": [],
   "source": [
    "world.head()"
   ]
  },
  {
   "cell_type": "code",
   "execution_count": null,
   "metadata": {
    "collapsed": false
   },
   "outputs": [],
   "source": [
    "world.describe()"
   ]
  },
  {
   "cell_type": "code",
   "execution_count": null,
   "metadata": {
    "collapsed": false
   },
   "outputs": [],
   "source": [
    "world.plot(figsize=(12, 6))"
   ]
  },
  {
   "cell_type": "code",
   "execution_count": null,
   "metadata": {
    "collapsed": false
   },
   "outputs": [],
   "source": [
    "#Only one active geometry\n",
    "world.geometry.name"
   ]
  },
  {
   "cell_type": "code",
   "execution_count": null,
   "metadata": {
    "collapsed": false
   },
   "outputs": [],
   "source": [
    "#We can also rename this column to “borders”:\n",
    "\n",
    "world = world.rename(columns={'geometry': 'borders'}).set_geometry('borders')\n",
    "\n",
    "world.geometry.name"
   ]
  },
  {
   "cell_type": "code",
   "execution_count": null,
   "metadata": {
    "collapsed": false
   },
   "outputs": [],
   "source": [
    "#Now, we create centroids and make it the geometry:\n",
    "\n",
    "world['centroid_column'] = world.centroid\n",
    "\n",
    "world.head()"
   ]
  },
  {
   "cell_type": "code",
   "execution_count": null,
   "metadata": {
    "collapsed": false
   },
   "outputs": [],
   "source": [
    "world = world.set_geometry('centroid_column')\n",
    "\n",
    "world.plot(figsize=(12, 6))"
   ]
  },
  {
   "cell_type": "markdown",
   "metadata": {},
   "source": [
    "### File Format\n",
    "\n",
    "* Reading and Writing Files Powerfull conversion ... using fiona\n",
    "* geopandas can read almost any vector-based spatial data format including ESRI shapefile, GeoJSON files and more using the command: gpd.read_file()\n",
    "* Writing Spatial Data GeoDataFrames can be exported to many different standard formats using the GeoDataFrame.to_file() method. * For a full list of supported formats, type import fiona; fiona.supported_drivers."
   ]
  },
  {
   "cell_type": "code",
   "execution_count": null,
   "metadata": {
    "collapsed": true
   },
   "outputs": [],
   "source": [
    "import fiona\n",
    "fiona.supported_drivers"
   ]
  },
  {
   "cell_type": "markdown",
   "metadata": {},
   "source": [
    "## Mapping Tools\n",
    "\n",
    "* geopandas provides a high-level interface to the matplotlib library for making maps. \n",
    "* Mapping shapes is as easy as using the plot() method on a GeoSeries or GeoDataFrame."
   ]
  },
  {
   "cell_type": "code",
   "execution_count": null,
   "metadata": {
    "collapsed": true
   },
   "outputs": [],
   "source": [
    "world = gpd.read_file(gpd.datasets.get_path('naturalearth_lowres'))\n",
    "\n",
    "cities = gpd.read_file(gpd.datasets.get_path('naturalearth_cities'))"
   ]
  },
  {
   "cell_type": "code",
   "execution_count": null,
   "metadata": {
    "collapsed": false
   },
   "outputs": [],
   "source": [
    "cities.plot(figsize=(12, 6))"
   ]
  },
  {
   "cell_type": "markdown",
   "metadata": {},
   "source": [
    "## Chloropleth Maps\n",
    "* maps where the color of each shape is based on the value of an associated variable\n",
    "* geopandas makes it easy to create Chloropleth maps\n",
    "* Simply use the plot command with the column argument set to the column whose values you want used to assign colors.\n",
    "\n",
    "####  Plot by GDP per capta\n"
   ]
  },
  {
   "cell_type": "code",
   "execution_count": null,
   "metadata": {
    "collapsed": false
   },
   "outputs": [],
   "source": [
    "world = world[(world.pop_est>0) & (world.name!=\"Antarctica\")]\n",
    "\n",
    "world['gdp_per_cap'] = world.gdp_md_est / world.pop_est\n",
    "\n",
    "world.plot(figsize=(12, 6),column='gdp_per_cap');"
   ]
  },
  {
   "cell_type": "code",
   "execution_count": null,
   "metadata": {
    "collapsed": false
   },
   "outputs": [],
   "source": [
    "#Choosing colors\n",
    "#One can also modify the colors used by plot with the cmap option (for a full list of colormaps, see the matplotlib website):\n",
    "\n",
    "world.plot(figsize=(12, 6),column='gdp_per_cap', cmap='OrRd');"
   ]
  },
  {
   "cell_type": "code",
   "execution_count": null,
   "metadata": {
    "collapsed": false
   },
   "outputs": [],
   "source": [
    "#if PySAL installed\n",
    "import pysal\n",
    "world.plot(figsize=(12, 6),column='gdp_per_cap', cmap='OrRd', scheme='quantiles')"
   ]
  },
  {
   "cell_type": "markdown",
   "metadata": {},
   "source": [
    "### Maps with Layers\n",
    "There are two strategies for making a map with multiple layers – one more succinct, and one that is a littel more flexible.\n",
    "\n",
    "Before combining maps, however, remember to always ensure they share a common CRS (so they will align).\n",
    "\n"
   ]
  },
  {
   "cell_type": "code",
   "execution_count": null,
   "metadata": {
    "collapsed": false
   },
   "outputs": [],
   "source": [
    "# Look at capitals\n",
    "# Note use of standard `pyplot` line style options\n",
    "cities.plot(marker='*', color='green', markersize=5,figsize=(12, 6));"
   ]
  },
  {
   "cell_type": "markdown",
   "metadata": {},
   "source": [
    "### CRS : Coordinate Reference Systems"
   ]
  },
  {
   "cell_type": "code",
   "execution_count": null,
   "metadata": {
    "collapsed": true
   },
   "outputs": [],
   "source": [
    "# Check crs\n",
    "cities = cities.to_crs(world.crs)\n",
    "\n",
    "# Now we can overlay over country outlines\n",
    "# And yes, there are lots of island capitals\n",
    "# apparently in the middle of the ocean!"
   ]
  },
  {
   "cell_type": "code",
   "execution_count": null,
   "metadata": {
    "collapsed": false
   },
   "outputs": [],
   "source": [
    "#Method 1\n",
    "\n",
    "base = world.plot(color='white',figsize=(12, 6))\n",
    "\n",
    "cities.plot(ax=base, marker='o', color='red', markersize=5,figsize=(12, 6))"
   ]
  },
  {
   "cell_type": "code",
   "execution_count": null,
   "metadata": {
    "collapsed": false
   },
   "outputs": [],
   "source": [
    "# Method 2: Using matplotlib objects\n",
    "\n",
    "import matplotlib.pyplot as plt\n",
    "\n",
    "fig, ax = plt.subplots(figsize=(12, 6))\n",
    "\n",
    "# set aspect to equal. This is done automatically\n",
    "# when using *geopandas* plot on it's own, but not when\n",
    "# working with pyplot directly.\n",
    "ax.set_aspect('equal')\n",
    "\n",
    "world.plot(ax=ax, color='white')\n",
    "cities.plot(ax=ax, marker='o', color='red', markersize=5)\n",
    "plt.show();"
   ]
  },
  {
   "cell_type": "markdown",
   "metadata": {},
   "source": [
    "## Managing Projections\n",
    "### CRS - Coordinate Reference Systems\n",
    "\n",
    "* CRS are important because the geometric shapes in a GeoSeries or GeoDataFrame object are simply a collection of coordinates in an arbitrary space. \n",
    "* A CRS tells Python how those coordinates related to places on the Earth.\n",
    "* CRS are referred to using codes called proj4 strings. You can find the codes for most commonly used projections from www.spatialreference.org or remotesensing.org.\n",
    "\n",
    "\n",
    "## Re-Projecting\n",
    "Re-projecting is the process of changing the representation of locations from one coordinate system to another. All projections of locations on the Earth into a two-dimensional plane are distortions, the projection that is best for your application may be different from the projection associated with the data you import. In these cases, data can be re-projected using the to_crs command.\n"
   ]
  },
  {
   "cell_type": "code",
   "execution_count": null,
   "metadata": {
    "collapsed": false
   },
   "outputs": [],
   "source": [
    "\n",
    "# load example data\n",
    "world = gpd.read_file(gpd.datasets.get_path('naturalearth_lowres'))\n",
    "\n",
    "# Check original projection\n",
    "# (it's Platte Carre! x-y are long and lat)\n",
    "world.crs\n"
   ]
  },
  {
   "cell_type": "code",
   "execution_count": null,
   "metadata": {
    "collapsed": false
   },
   "outputs": [],
   "source": [
    "# Visualize\n",
    "world.plot(figsize=(12, 6));"
   ]
  },
  {
   "cell_type": "code",
   "execution_count": null,
   "metadata": {
    "collapsed": false
   },
   "outputs": [],
   "source": [
    "# Reproject to Mercator (after dropping Antartica)\n",
    "#world[(world.name != \"Antarctica\") & (world.name != \"Fr. S. Antarctic Lands\")]\n",
    "\n",
    "world = world.to_crs({'init': 'epsg:3395'}) # world.to_crs(epsg=3395) would also work\n",
    "\n",
    "world.plot(figsize=(12, 6))"
   ]
  }
 ],
 "metadata": {
  "kernelspec": {
   "display_name": "Python 3",
   "language": "python",
   "name": "python3"
  },
  "language_info": {
   "codemirror_mode": {
    "name": "ipython",
    "version": 3
   },
   "file_extension": ".py",
   "mimetype": "text/x-python",
   "name": "python",
   "nbconvert_exporter": "python",
   "pygments_lexer": "ipython3",
   "version": "3.5.3"
  }
 },
 "nbformat": 4,
 "nbformat_minor": 0
}
